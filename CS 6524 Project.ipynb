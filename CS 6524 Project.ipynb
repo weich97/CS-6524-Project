{
 "cells": [
  {
   "cell_type": "code",
   "execution_count": 1,
   "metadata": {},
   "outputs": [
    {
     "name": "stderr",
     "output_type": "stream",
     "text": [
      "/opt/apps/Anaconda3/2019.03/envs/powerai16_ibm/lib/python3.6/site-packages/sklearn/cross_validation.py:41: DeprecationWarning: This module was deprecated in version 0.18 in favor of the model_selection module into which all the refactored classes and functions are moved. Also note that the interface of the new CV iterators are different from that of this module. This module will be removed in 0.20.\n",
      "  \"This module will be removed in 0.20.\", DeprecationWarning)\n"
     ]
    }
   ],
   "source": [
    "from sklearn.neural_network import MLPRegressor\n",
    "from sklearn.cross_validation import train_test_split\n",
    "from sklearn.utils import shuffle\n",
    "from sklearn.preprocessing import StandardScaler\n",
    "import sys\n",
    "import copy\n",
    "import random\n",
    "import math\n",
    "import numpy as np\n",
    "import scipy as sp\n",
    "import pandas as pd"
   ]
  },
  {
   "cell_type": "code",
   "execution_count": 2,
   "metadata": {},
   "outputs": [],
   "source": [
    "data=pd.read_csv('training.txt', delimiter='\\s+', index_col=False, header = None)"
   ]
  },
  {
   "cell_type": "code",
   "execution_count": 3,
   "metadata": {},
   "outputs": [],
   "source": [
    "nn = MLPRegressor(\n",
    "    hidden_layer_sizes=(80,3),  activation='relu', solver='adam', alpha=0.0001, batch_size='auto',\n",
    "    learning_rate='adaptive', learning_rate_init=0.0009, power_t=0.7, max_iter=200, shuffle=True,\n",
    "    random_state=9, tol=0.000001, verbose=True, warm_start=False, momentum=0.9, nesterovs_momentum=True,\n",
    "    early_stopping=False, validation_fraction=0.25, beta_1=0.972, beta_2=0.9, epsilon=1e-9)"
   ]
  },
  {
   "cell_type": "code",
   "execution_count": 4,
   "metadata": {},
   "outputs": [
    {
     "name": "stdout",
     "output_type": "stream",
     "text": [
      "        0    1     2    3     4    5     6    7     8    9     10   11    12  \\\n",
      "0     1000  192   500  128   400  160   700  160   200  256   800  192   400   \n",
      "1      800  160   600  160   300   64   800  384   700  288   500  192   100   \n",
      "2      400  128   100   32   700  256  1000  288  1000  288   100  288   500   \n",
      "3      200  256   900  192   800  160   700  192   600  384   200  224   300   \n",
      "4      100  288   200  256   900  256   700   32   900  160   400  192   400   \n",
      "5      700  224   800  192   400   64   200  384   300   96   600  384   100   \n",
      "6      800  160   700  224   600   32   700  128   100  320   500  128   700   \n",
      "7     1000   64   500  288   600  384   100   64   200  352   100  320   600   \n",
      "8      700  288   200  192   900   64   200  352   300  352   900  128  1000   \n",
      "9      600   32   300  320   900  224   600  192   700  128   400  384   300   \n",
      "10     200  384   400  224   900  288   700  288   600   64   200  160   200   \n",
      "11     900  384   800  224   700  320   500  352   500  160   600  128   500   \n",
      "12     100  224   500  352   600  352   400  256   200  352   400  384  1000   \n",
      "13     700  128   400  224   900  160  1000  320   300  384   100  288   100   \n",
      "14     600  192  1000   32   800   96  1000  352   800  320   600  384  1000   \n",
      "15    1000  224   600  288   800   96   900   96   200  352   500  256   900   \n",
      "16     800  352   700  384   400  128  1000  224   200  192   600  384   900   \n",
      "17     800  256   800  320   800  224   100  256   200  160   700  256   200   \n",
      "18     900  192   300  160   400  160   800  352   300  224   100  288   800   \n",
      "19     600  320   400  192   600   64   500  288   600  288   300   32   900   \n",
      "20    1000   96   600  320   100   32   700  256   100  192   800   96   400   \n",
      "21     800  224   800  384   500  288   200  192   400  352   600  256   900   \n",
      "22     800  128   300   96   600  192  1000  224   100  352   800  224   300   \n",
      "23     600  160   900  128   300  320   700  128   600   64   400  288   400   \n",
      "24     200  320   800   64   100  384  1000  256   400  160   200  320   200   \n",
      "25     200  320   500  192  1000  384   400  128   400  192   400  352   600   \n",
      "26     600  128  1000  192   300  384   600   64   600  352   900  256   500   \n",
      "27     300   96   300  160   800  320   500  288  1000  224   200   32  1000   \n",
      "28     900  288   400  192   700  192  1000  320   500  128   200  224   600   \n",
      "29     600  320   200  128   900   32   500  128   900  384   900  288   800   \n",
      "...    ...  ...   ...  ...   ...  ...   ...  ...   ...  ...   ...  ...   ...   \n",
      "9970   100   32   900  160   900  320   800   32   500  192   700  288   700   \n",
      "9971   900  224   800  288   800  224   200  224   800  256  1000  288   200   \n",
      "9972   500  352   600   32   600  256   100   64   800  352   800  384  1000   \n",
      "9973   500   96   400  384   100  384   500   64   400  256   600  352   600   \n",
      "9974   800  256  1000  288   800  128  1000  352   500  352   800  288   300   \n",
      "9975   900  224   300  160   400   96   400  288   300  256   700  256   100   \n",
      "9976   700   32   100  192   400  320   400  384   800  352  1000  192   900   \n",
      "9977   400  352   500   96   200   64  1000   96   100  320   400  320   900   \n",
      "9978   400  192  1000  256   800  320   200   96   300  256   900  160   900   \n",
      "9979   300  288   600  192   900  160   700  256   900   32  1000  160   100   \n",
      "9980   600  128   300  128   500  352   300   96   400   96   700  160   200   \n",
      "9981   900   32   100  128   800  128   900   96   400  288   200  288   400   \n",
      "9982   900  288   800  384   400  320   900  320   200  256   100  224   800   \n",
      "9983   400  352   500  288   700  288  1000   96   100  192   400  352   300   \n",
      "9984   700  160   900  384   600   96   900  256   300  128   700   96   300   \n",
      "9985   600  256   400  192   600  160   600  288   900  352   100  384   800   \n",
      "9986   100   64   500   32   900   96   500  288   100  352   700  288   300   \n",
      "9987   100  128   300   32   200   64  1000  128   900  384   600  256   600   \n",
      "9988  1000  128   100   32   800   32   600   64  1000  256   100  320  1000   \n",
      "9989   100   32   400  320   700  288   500  288  1000  384   800  288   100   \n",
      "9990   500  160   100  320   700  352   900   96   400  128   100  352   900   \n",
      "9991   800  256   200  352   200   32   200   32   800  288   600  128   300   \n",
      "9992   100  128   200  384  1000  192   200   64   500  128   200  192   600   \n",
      "9993   700  160   500  384   600   32   900  192   900  160   700  288   500   \n",
      "9994   600  288   500  320  1000   64   900  256   800  224   800  160  1000   \n",
      "9995   900   64   200   64   800  384  1000  256   400  288   100  128   800   \n",
      "9996   200  192   800  288   800  288   200  288   900  352   100   32   100   \n",
      "9997   900  352   200  224   900  128  1000  224   500  192   900  320  1000   \n",
      "9998   100  160   600  160   700  160   900  128   100  320   100  256  1000   \n",
      "9999   800   32   800  160  1000   32   600  160   300  320  1000  160   700   \n",
      "\n",
      "       13  \n",
      "0     128  \n",
      "1     192  \n",
      "2     288  \n",
      "3     256  \n",
      "4     320  \n",
      "5     160  \n",
      "6     224  \n",
      "7      96  \n",
      "8     352  \n",
      "9      32  \n",
      "10    256  \n",
      "11    320  \n",
      "12    160  \n",
      "13    160  \n",
      "14     64  \n",
      "15    384  \n",
      "16     32  \n",
      "17    192  \n",
      "18     96  \n",
      "19     96  \n",
      "20    128  \n",
      "21    352  \n",
      "22    256  \n",
      "23     32  \n",
      "24    256  \n",
      "25    224  \n",
      "26    352  \n",
      "27    352  \n",
      "28    320  \n",
      "29     96  \n",
      "...   ...  \n",
      "9970  224  \n",
      "9971  320  \n",
      "9972   32  \n",
      "9973  320  \n",
      "9974  256  \n",
      "9975  224  \n",
      "9976   64  \n",
      "9977  256  \n",
      "9978   64  \n",
      "9979  384  \n",
      "9980  160  \n",
      "9981  352  \n",
      "9982  288  \n",
      "9983  192  \n",
      "9984   64  \n",
      "9985   64  \n",
      "9986  128  \n",
      "9987  160  \n",
      "9988  192  \n",
      "9989  320  \n",
      "9990  256  \n",
      "9991  288  \n",
      "9992  288  \n",
      "9993   32  \n",
      "9994  288  \n",
      "9995  384  \n",
      "9996  192  \n",
      "9997  288  \n",
      "9998   64  \n",
      "9999   64  \n",
      "\n",
      "[10000 rows x 14 columns]\n",
      "0       1.263134\n",
      "1       1.168355\n",
      "2       1.046632\n",
      "3       1.174907\n",
      "4       1.140148\n",
      "5       1.167929\n",
      "6       1.200542\n",
      "7       1.178291\n",
      "8       1.147764\n",
      "9       1.123178\n",
      "10      1.047292\n",
      "11      1.080997\n",
      "12      1.183725\n",
      "13      1.148000\n",
      "14      1.129179\n",
      "15      1.176807\n",
      "16      1.173099\n",
      "17      1.164325\n",
      "18      1.183078\n",
      "19      1.100260\n",
      "20      1.193964\n",
      "21      1.077690\n",
      "22      1.209483\n",
      "23      1.174487\n",
      "24      1.225177\n",
      "25      1.180079\n",
      "26      1.177053\n",
      "27      1.094302\n",
      "28      1.099181\n",
      "29      1.201958\n",
      "          ...   \n",
      "9970    1.080333\n",
      "9971    1.131161\n",
      "9972    1.173389\n",
      "9973    1.204375\n",
      "9974    1.117058\n",
      "9975    1.130238\n",
      "9976    1.130315\n",
      "9977    1.231081\n",
      "9978    1.216220\n",
      "9979    1.141067\n",
      "9980    1.228731\n",
      "9981    1.205782\n",
      "9982    1.076269\n",
      "9983    1.112449\n",
      "9984    1.249007\n",
      "9985    1.120746\n",
      "9986    1.097583\n",
      "9987    1.230908\n",
      "9988    1.154540\n",
      "9989    1.003041\n",
      "9990    1.192052\n",
      "9991    1.012886\n",
      "9992    1.204581\n",
      "9993    1.101851\n",
      "9994    1.192188\n",
      "9995    1.223758\n",
      "9996    1.044663\n",
      "9997    1.185751\n",
      "9998    1.273623\n",
      "9999    1.175346\n",
      "Name: 14, Length: 10000, dtype: float64\n"
     ]
    }
   ],
   "source": [
    "inputs=data.iloc[:,:14]\n",
    "outputs=data.iloc[:,14]\n",
    "print(inputs)\n",
    "print(outputs)"
   ]
  },
  {
   "cell_type": "code",
   "execution_count": 5,
   "metadata": {},
   "outputs": [],
   "source": [
    "x_train, x_test, y_train, y_test = train_test_split(inputs, outputs, random_state=9)"
   ]
  },
  {
   "cell_type": "code",
   "execution_count": 6,
   "metadata": {},
   "outputs": [
    {
     "name": "stdout",
     "output_type": "stream",
     "text": [
      "7500\n",
      "2500\n"
     ]
    }
   ],
   "source": [
    "print(len(x_train))\n",
    "print(len(x_test))"
   ]
  },
  {
   "cell_type": "code",
   "execution_count": 7,
   "metadata": {},
   "outputs": [],
   "source": [
    "scaler = StandardScaler()"
   ]
  },
  {
   "cell_type": "code",
   "execution_count": 8,
   "metadata": {},
   "outputs": [
    {
     "data": {
      "text/plain": [
       "StandardScaler(copy=True, with_mean=True, with_std=True)"
      ]
     },
     "execution_count": 8,
     "metadata": {},
     "output_type": "execute_result"
    }
   ],
   "source": [
    "scaler.fit(x_train)"
   ]
  },
  {
   "cell_type": "code",
   "execution_count": 9,
   "metadata": {},
   "outputs": [],
   "source": [
    "x_train = scaler.transform(x_train)"
   ]
  },
  {
   "cell_type": "code",
   "execution_count": 10,
   "metadata": {},
   "outputs": [],
   "source": [
    "x_test=scaler.transform(x_test)"
   ]
  },
  {
   "cell_type": "code",
   "execution_count": 11,
   "metadata": {},
   "outputs": [
    {
     "name": "stdout",
     "output_type": "stream",
     "text": [
      "2500\n"
     ]
    }
   ],
   "source": [
    "print(len(x_test))"
   ]
  },
  {
   "cell_type": "code",
   "execution_count": 12,
   "metadata": {},
   "outputs": [
    {
     "name": "stdout",
     "output_type": "stream",
     "text": [
      "Iteration 1, loss = 0.06892600\n",
      "Iteration 2, loss = 0.01927881\n",
      "Iteration 3, loss = 0.00934650\n",
      "Iteration 4, loss = 0.00737728\n",
      "Iteration 5, loss = 0.00496788\n",
      "Iteration 6, loss = 0.00374871\n",
      "Iteration 7, loss = 0.00324033\n",
      "Iteration 8, loss = 0.00286798\n",
      "Iteration 9, loss = 0.00251586\n",
      "Iteration 10, loss = 0.00224281\n",
      "Iteration 11, loss = 0.00203597\n",
      "Iteration 12, loss = 0.00189253\n",
      "Iteration 13, loss = 0.00179287\n",
      "Iteration 14, loss = 0.00172136\n",
      "Iteration 15, loss = 0.00166535\n",
      "Iteration 16, loss = 0.00161247\n",
      "Iteration 17, loss = 0.00157683\n",
      "Iteration 18, loss = 0.00153759\n",
      "Iteration 19, loss = 0.00149840\n",
      "Iteration 20, loss = 0.00146361\n",
      "Iteration 21, loss = 0.00142802\n",
      "Iteration 22, loss = 0.00139393\n",
      "Iteration 23, loss = 0.00136992\n",
      "Iteration 24, loss = 0.00133595\n",
      "Iteration 25, loss = 0.00130391\n",
      "Iteration 26, loss = 0.00127100\n",
      "Iteration 27, loss = 0.00124433\n",
      "Iteration 28, loss = 0.00121434\n",
      "Iteration 29, loss = 0.00119621\n",
      "Iteration 30, loss = 0.00117534\n",
      "Iteration 31, loss = 0.00115534\n",
      "Iteration 32, loss = 0.00112110\n",
      "Iteration 33, loss = 0.00109705\n",
      "Iteration 34, loss = 0.00108268\n",
      "Iteration 35, loss = 0.00104848\n",
      "Iteration 36, loss = 0.00102388\n",
      "Iteration 37, loss = 0.00100087\n",
      "Iteration 38, loss = 0.00098967\n",
      "Iteration 39, loss = 0.00095890\n",
      "Iteration 40, loss = 0.00094049\n",
      "Iteration 41, loss = 0.00091375\n",
      "Iteration 42, loss = 0.00088464\n",
      "Iteration 43, loss = 0.00085840\n",
      "Iteration 44, loss = 0.00083781\n",
      "Iteration 45, loss = 0.00081551\n",
      "Iteration 46, loss = 0.00080251\n",
      "Iteration 47, loss = 0.00079059\n",
      "Iteration 48, loss = 0.00077482\n",
      "Iteration 49, loss = 0.00074781\n",
      "Iteration 50, loss = 0.00072947\n",
      "Iteration 51, loss = 0.00072965\n",
      "Iteration 52, loss = 0.00071015\n",
      "Iteration 53, loss = 0.00069490\n",
      "Iteration 54, loss = 0.00068123\n",
      "Iteration 55, loss = 0.00066235\n",
      "Iteration 56, loss = 0.00065995\n",
      "Iteration 57, loss = 0.00064474\n",
      "Iteration 58, loss = 0.00063792\n",
      "Iteration 59, loss = 0.00062806\n",
      "Iteration 60, loss = 0.00062435\n",
      "Iteration 61, loss = 0.00062001\n",
      "Iteration 62, loss = 0.00061858\n",
      "Iteration 63, loss = 0.00060522\n",
      "Iteration 64, loss = 0.00059852\n",
      "Iteration 65, loss = 0.00059382\n",
      "Iteration 66, loss = 0.00059434\n",
      "Iteration 67, loss = 0.00058877\n",
      "Iteration 68, loss = 0.00058715\n",
      "Iteration 69, loss = 0.00058749\n",
      "Iteration 70, loss = 0.00057894\n",
      "Iteration 71, loss = 0.00057226\n",
      "Iteration 72, loss = 0.00056772\n",
      "Iteration 73, loss = 0.00056196\n",
      "Iteration 74, loss = 0.00055740\n",
      "Iteration 75, loss = 0.00055148\n",
      "Iteration 76, loss = 0.00055425\n",
      "Iteration 77, loss = 0.00054735\n",
      "Iteration 78, loss = 0.00054444\n",
      "Iteration 79, loss = 0.00054322\n",
      "Iteration 80, loss = 0.00054019\n",
      "Iteration 81, loss = 0.00053990\n",
      "Iteration 82, loss = 0.00053726\n",
      "Iteration 83, loss = 0.00053965\n",
      "Iteration 84, loss = 0.00053820\n",
      "Iteration 85, loss = 0.00053644\n",
      "Training loss did not improve more than tol=0.000001 for two consecutive epochs. Stopping.\n"
     ]
    }
   ],
   "source": [
    "n_fit=nn.fit(x_train,y_train)"
   ]
  },
  {
   "cell_type": "code",
   "execution_count": 13,
   "metadata": {},
   "outputs": [],
   "source": [
    "nn.score(x_train,y_train)\n",
    "the_training_score = nn.score(x_train,y_train)"
   ]
  },
  {
   "cell_type": "code",
   "execution_count": 14,
   "metadata": {},
   "outputs": [],
   "source": [
    "nn.score(x_test,y_test)\n",
    "the_testing_score = nn.score(x_test,y_test)"
   ]
  },
  {
   "cell_type": "code",
   "execution_count": 15,
   "metadata": {},
   "outputs": [
    {
     "data": {
      "text/plain": [
       "0.0005364431170783745"
      ]
     },
     "execution_count": 15,
     "metadata": {},
     "output_type": "execute_result"
    }
   ],
   "source": [
    "nn.loss_"
   ]
  },
  {
   "cell_type": "code",
   "execution_count": 16,
   "metadata": {},
   "outputs": [
    {
     "data": {
      "text/plain": [
       "<Figure size 640x480 with 1 Axes>"
      ]
     },
     "metadata": {},
     "output_type": "display_data"
    }
   ],
   "source": [
    "import matplotlib.pyplot as plt\n",
    "fig = plt.figure()\n",
    "epochs = range(0,len(nn.loss_curve_))\n",
    "loss_thermisto = nn.loss_curve_\n",
    "plt.plot(epochs,nn.loss_curve_)\n",
    "plt.yscale('log')\n",
    "plt.xlabel('Epochs')\n",
    "plt.ylabel('Loss')\n",
    "plt.show()\n",
    "fig.savefig('loss_history_thermisto.png')\n",
    "#fig = plt.figure()\n",
    "#plt.plot(epochs,nn.validation_scores_)\n",
    "#plt.show()"
   ]
  },
  {
   "cell_type": "code",
   "execution_count": 17,
   "metadata": {},
   "outputs": [],
   "source": [
    "y_predicted_train=nn.predict(x_train)\n",
    "y_predicted_train=np.array(y_predicted_train)\n",
    "y_real_train=np.array(y_train)\n",
    "y_predicted_train.reshape([len(y_predicted_train),1])\n",
    "y_real_train.reshape([len(y_real_train),1])\n",
    "np.savetxt('Predicted_train_thermisto.txt',y_predicted_train)\n",
    "np.savetxt('Actual_train_thermisto.txt',y_real_train)\n",
    "y_real_test=np.array(y_test)\n",
    "y_predicted_test = np.array(nn.predict(x_test))\n",
    "np.savetxt('Actual_test_thermisto.txt',y_real_test.reshape([len(y_real_test),1]))\n",
    "np.savetxt('Predicted_test_thermisto.txt',y_predicted_test.reshape([len(y_predicted_test),1]))"
   ]
  },
  {
   "cell_type": "code",
   "execution_count": 18,
   "metadata": {},
   "outputs": [
    {
     "data": {
      "image/png": "[encoded data removed]",
      "text/plain": [
       "<Figure size 432x288 with 1 Axes>"
      ]
     },
     "metadata": {
      "needs_background": "light"
     },
     "output_type": "display_data"
    }
   ],
   "source": [
    "fig = plt.figure()\n",
    "xyrange = [0.8,2.0]\n",
    "plt.scatter(y_real_train,y_predicted_train,s=2,c='k')\n",
    "plt.plot(xyrange,xyrange,'r')\n",
    "plt.xlabel('Actual runtime, s')\n",
    "plt.ylabel('Predicted runtime, s')\n",
    "plt.axis('square')\n",
    "plt.axis([xyrange[0],xyrange[1],xyrange[0],xyrange[1]])\n",
    "plt.show()\n",
    "fig.savefig('Thermisto_training.png')"
   ]
  },
  {
   "cell_type": "code",
   "execution_count": 19,
   "metadata": {},
   "outputs": [
    {
     "data": {
      "image/png": "[encoded data removed]",
      "text/plain": [
       "<Figure size 432x288 with 1 Axes>"
      ]
     },
     "metadata": {
      "needs_background": "light"
     },
     "output_type": "display_data"
    }
   ],
   "source": [
    "fig = plt.figure()\n",
    "xyrange = [0.8,2.0]\n",
    "plt.scatter(y_real_test,y_predicted_test,s=2,c='k')\n",
    "plt.plot(xyrange,xyrange,'r')\n",
    "plt.xlabel('Actual runtime, s')\n",
    "plt.ylabel('Predicted runtime, s')\n",
    "plt.axis('square')\n",
    "plt.axis([xyrange[0],xyrange[1],xyrange[0],xyrange[1]])\n",
    "plt.show()\n",
    "fig.savefig('Thermisto_testing.png')"
   ]
  },
  {
   "cell_type": "code",
   "execution_count": 20,
   "metadata": {},
   "outputs": [],
   "source": [
    "data_cas=pd.read_csv('training_cascades.txt', delimiter='\\s+', index_col=False, header = None)"
   ]
  },
  {
   "cell_type": "code",
   "execution_count": 21,
   "metadata": {},
   "outputs": [],
   "source": [
    "nn = MLPRegressor(\n",
    "    hidden_layer_sizes=(80,3),  activation='relu', solver='adam', alpha=0.005, batch_size=400,\n",
    "    learning_rate='adaptive', learning_rate_init=0.0009, power_t=0.7, max_iter=200, shuffle=True,\n",
    "    random_state=9, tol=0.000001, verbose=True, warm_start=False, momentum=0.9, nesterovs_momentum=True,\n",
    "    early_stopping=False, validation_fraction=0.25, beta_1=0.972, beta_2=0.9, epsilon=1e-9)"
   ]
  },
  {
   "cell_type": "code",
   "execution_count": 22,
   "metadata": {},
   "outputs": [
    {
     "name": "stdout",
     "output_type": "stream",
     "text": [
      "        0    1     2    3     4    5     6    7     8    9     10   11    12  \\\n",
      "0      300  288   200  320   300  192   600   96   100  320   600   32   700   \n",
      "1      900   32   700   96  1000  256   500  320   300  384   600  320   300   \n",
      "2      400  192   200   96  1000  192   400  192   100  128   800  128   400   \n",
      "3      900  320   600  160   900  288  1000   32   900  352   400   96   700   \n",
      "4      900   96   500  224   900   32  1000   96   900  320   300   64   500   \n",
      "5      300  288   500   32  1000  352   800  256   500   32   400  320   400   \n",
      "6      500  352  1000  256   600  256   900  224   700  256   900  352   700   \n",
      "7      100  192   500  256   800  192   100  288   700   32   200  320   200   \n",
      "8     1000  192   800  384   100  224   100  320   200   96   800  160   900   \n",
      "9     1000  160   400  320   900  352   900  192   800  256   100  224   900   \n",
      "10     700   32   200  288   400  128   300  320   700   64   800  320   500   \n",
      "11     100  320   100  192   300  320   700  384   500  160   900  256   900   \n",
      "12     900  320   900  352  1000  256   300  288   600  288   900  288  1000   \n",
      "13     900  320  1000  256   100   32   700  192   300   64   200   96   800   \n",
      "14    1000   96  1000   32   400  128   700  224   100  224   400  224   300   \n",
      "15     700   64   900  352   100  256   400  288   200  288   800  160  1000   \n",
      "16     200  256   900  256   200  288   900  288   400  224   200  192   700   \n",
      "17     800  256   700   32   200   32   700  224   800  288   100   96   700   \n",
      "18     300  224   200  160   100  384   600  256   300  224   900  320   300   \n",
      "19     700  256   900  288   200  128   200   32   900  288   400  288   600   \n",
      "20     800   64   200  160  1000   96   600  352  1000   32   900  256   600   \n",
      "21     200  192   500   96  1000  256   400  224   800  288   800  128   100   \n",
      "22     800   64   300  352   300  224   700   64   800  160   800  224   600   \n",
      "23     100  288   300  288   200   32   200   96   500   32   200  256   100   \n",
      "24     800  256   300   32   600  160   100  384   500  320   200   32   100   \n",
      "25     800  352   900   32   100  160   400  128   100  320   400   64   600   \n",
      "26     200  128   100  192   100  224  1000  352  1000  288   700  128   900   \n",
      "27     900  384   700   96   600   96   100   96  1000  320   500  320   800   \n",
      "28     600  224   200  256   300  384   800  320   300  160   700  384  1000   \n",
      "29    1000  224   300   96   100  352   100  256   100   64   900   32   600   \n",
      "...    ...  ...   ...  ...   ...  ...   ...  ...   ...  ...   ...  ...   ...   \n",
      "9970   600  256   500  128   800  160   500  128  1000  128   600  128   400   \n",
      "9971   700  256  1000   96   900  128   200  288   200  128   200  320   200   \n",
      "9972   100  320   500   32   300  192   400   64   700   64   600  256   500   \n",
      "9973   600  352  1000  192   600   64   400  160   800   96   100  320   900   \n",
      "9974   100  224   500  384   900  288   300   96   400  320  1000  288   100   \n",
      "9975   800  128   500   64   200  288   900  224   500  320   900   32   400   \n",
      "9976   600  224   200  256   200  192   400  160   900   64   800  256   100   \n",
      "9977   700  128   900  256   200  160   100  224   500  128   900   64  1000   \n",
      "9978   200  256   100  352   700  192   400  224   800  288   400  192   700   \n",
      "9979   400  352   400  224  1000   96   200   64   700   32   400   96   700   \n",
      "9980   500  192  1000  352   100   32   800  224   800  256   400  288   400   \n",
      "9981   300  320   300   32   100  160   500  320   800   32   200  224   200   \n",
      "9982   600  288   600   32  1000  288   200   32   700  256   400   32   300   \n",
      "9983   800  384   600   96  1000  128   900  128  1000   96   700   64   800   \n",
      "9984   200   96  1000  288   200   32   100  288   800  224   600  160   900   \n",
      "9985   600  352   900   96   200   32   700  288   700   96  1000  288   700   \n",
      "9986  1000  224   400  384   900   64   300   96   200  128   300  320   500   \n",
      "9987   600  192   600  192   600   96   300   64   600  160   100  384   200   \n",
      "9988   100  160   100  288  1000  160   300  352   100  128   700  352   100   \n",
      "9989   500   64   400  256   400  288   900  256   200  384   700  288   900   \n",
      "9990   600   64   100   32   400  128   800  352   400   64   700   32   100   \n",
      "9991   100   32   500  256   200  256   900  160   100  384   600   96   300   \n",
      "9992   400  160   700  384   600  128   700  352   800  320   700  288   600   \n",
      "9993   400  256  1000  352   500   32   500  224   800  224   300  384  1000   \n",
      "9994  1000   96   700  384   600   32   100  256   300  160   400   32   600   \n",
      "9995   400   64   600  128   900  192   300  320   100  128   800  256   900   \n",
      "9996   900  192   700  128   400   96   300  352   700  288   800  288   600   \n",
      "9997   200   96  1000  352   400  384   300  224   800  192   300  192  1000   \n",
      "9998   500  160   900   64   800   64   800  384  1000   96   500  192   800   \n",
      "9999   500  256   500  160   300  192  1000  256   600  384   600   32   700   \n",
      "\n",
      "       13  \n",
      "0     160  \n",
      "1     128  \n",
      "2     384  \n",
      "3     224  \n",
      "4      64  \n",
      "5     352  \n",
      "6     384  \n",
      "7     128  \n",
      "8     160  \n",
      "9     320  \n",
      "10    288  \n",
      "11    384  \n",
      "12     64  \n",
      "13    160  \n",
      "14    160  \n",
      "15    256  \n",
      "16     64  \n",
      "17    128  \n",
      "18    384  \n",
      "19     64  \n",
      "20    256  \n",
      "21    224  \n",
      "22     64  \n",
      "23    320  \n",
      "24    384  \n",
      "25     96  \n",
      "26    256  \n",
      "27    352  \n",
      "28    224  \n",
      "29    160  \n",
      "...   ...  \n",
      "9970  192  \n",
      "9971  320  \n",
      "9972  160  \n",
      "9973  288  \n",
      "9974  256  \n",
      "9975  352  \n",
      "9976  224  \n",
      "9977   32  \n",
      "9978  160  \n",
      "9979  288  \n",
      "9980  160  \n",
      "9981  128  \n",
      "9982  384  \n",
      "9983   64  \n",
      "9984  384  \n",
      "9985  288  \n",
      "9986  128  \n",
      "9987  384  \n",
      "9988   64  \n",
      "9989  160  \n",
      "9990  224  \n",
      "9991   32  \n",
      "9992  160  \n",
      "9993  192  \n",
      "9994  352  \n",
      "9995  192  \n",
      "9996  224  \n",
      "9997  352  \n",
      "9998  160  \n",
      "9999   96  \n",
      "\n",
      "[10000 rows x 14 columns]\n",
      "0       1.260656\n",
      "1       1.189700\n",
      "2       1.312153\n",
      "3       1.151498\n",
      "4       1.252914\n",
      "5       1.180069\n",
      "6       1.100478\n",
      "7       1.253081\n",
      "8       1.134459\n",
      "9       1.207343\n",
      "10      1.224185\n",
      "11      1.158882\n",
      "12      1.128555\n",
      "13      1.631922\n",
      "14      1.224551\n",
      "15      1.141196\n",
      "16      1.186153\n",
      "17      1.279707\n",
      "18      1.203627\n",
      "19      1.154107\n",
      "20      1.239598\n",
      "21      1.148938\n",
      "22      1.191237\n",
      "23      1.217550\n",
      "24      1.329615\n",
      "25      1.276500\n",
      "26      1.160845\n",
      "27      1.164882\n",
      "28      1.220550\n",
      "29      1.209794\n",
      "          ...   \n",
      "9970    1.219053\n",
      "9971    1.258121\n",
      "9972    1.198980\n",
      "9973    1.213098\n",
      "9974    1.192852\n",
      "9975    1.159661\n",
      "9976    1.236162\n",
      "9977    1.187451\n",
      "9978    1.196295\n",
      "9979    1.189205\n",
      "9980    1.330246\n",
      "9981    1.151825\n",
      "9982    1.172120\n",
      "9983    1.240386\n",
      "9984    1.159448\n",
      "9985    1.219225\n",
      "9986    1.284979\n",
      "9987    1.207518\n",
      "9988    1.355912\n",
      "9989    1.180193\n",
      "9990    1.395096\n",
      "9991    1.736470\n",
      "9992    1.227295\n",
      "9993    1.111211\n",
      "9994    1.245420\n",
      "9995    1.416170\n",
      "9996    1.222778\n",
      "9997    1.175641\n",
      "9998    1.235912\n",
      "9999    1.226574\n",
      "Name: 14, Length: 10000, dtype: float64\n"
     ]
    }
   ],
   "source": [
    "inputs_cas=data_cas.iloc[:,:14]\n",
    "outputs_cas=data_cas.iloc[:,14]\n",
    "print(inputs_cas)\n",
    "print(outputs_cas)"
   ]
  },
  {
   "cell_type": "code",
   "execution_count": 23,
   "metadata": {},
   "outputs": [],
   "source": [
    "x_train_cas, x_test_cas, y_train_cas, y_test_cas = train_test_split(inputs_cas, outputs_cas, random_state=9)"
   ]
  },
  {
   "cell_type": "code",
   "execution_count": 24,
   "metadata": {},
   "outputs": [
    {
     "name": "stdout",
     "output_type": "stream",
     "text": [
      "7500\n",
      "2500\n"
     ]
    }
   ],
   "source": [
    "print(len(x_train_cas))\n",
    "print(len(x_test_cas))"
   ]
  },
  {
   "cell_type": "code",
   "execution_count": 25,
   "metadata": {},
   "outputs": [],
   "source": [
    "scaler_cas = StandardScaler()"
   ]
  },
  {
   "cell_type": "code",
   "execution_count": 26,
   "metadata": {},
   "outputs": [
    {
     "data": {
      "text/plain": [
       "StandardScaler(copy=True, with_mean=True, with_std=True)"
      ]
     },
     "execution_count": 26,
     "metadata": {},
     "output_type": "execute_result"
    }
   ],
   "source": [
    "scaler_cas.fit(x_train_cas)"
   ]
  },
  {
   "cell_type": "code",
   "execution_count": 27,
   "metadata": {},
   "outputs": [],
   "source": [
    "x_train_cas = scaler_cas.transform(x_train_cas)\n",
    "x_test_cas = scaler_cas.transform(x_test_cas)"
   ]
  },
  {
   "cell_type": "code",
   "execution_count": 28,
   "metadata": {},
   "outputs": [
    {
     "name": "stdout",
     "output_type": "stream",
     "text": [
      "Iteration 1, loss = 0.12536698\n",
      "Iteration 2, loss = 0.04208536\n",
      "Iteration 3, loss = 0.02584225\n",
      "Iteration 4, loss = 0.02269867\n",
      "Iteration 5, loss = 0.01452806\n",
      "Iteration 6, loss = 0.00884712\n",
      "Iteration 7, loss = 0.00955438\n",
      "Iteration 8, loss = 0.00836256\n",
      "Iteration 9, loss = 0.00622079\n",
      "Iteration 10, loss = 0.00572560\n",
      "Iteration 11, loss = 0.00547867\n",
      "Iteration 12, loss = 0.00495135\n",
      "Iteration 13, loss = 0.00463976\n",
      "Iteration 14, loss = 0.00454306\n",
      "Iteration 15, loss = 0.00426346\n",
      "Iteration 16, loss = 0.00412342\n",
      "Iteration 17, loss = 0.00400549\n",
      "Iteration 18, loss = 0.00383719\n",
      "Iteration 19, loss = 0.00376713\n",
      "Iteration 20, loss = 0.00364723\n",
      "Iteration 21, loss = 0.00358689\n",
      "Iteration 22, loss = 0.00350427\n",
      "Iteration 23, loss = 0.00344247\n",
      "Iteration 24, loss = 0.00337870\n",
      "Iteration 25, loss = 0.00333005\n",
      "Iteration 26, loss = 0.00326425\n",
      "Iteration 27, loss = 0.00321981\n",
      "Iteration 28, loss = 0.00317680\n",
      "Iteration 29, loss = 0.00312852\n",
      "Iteration 30, loss = 0.00309202\n",
      "Iteration 31, loss = 0.00305150\n",
      "Iteration 32, loss = 0.00301398\n",
      "Iteration 33, loss = 0.00298171\n",
      "Iteration 34, loss = 0.00296083\n",
      "Iteration 35, loss = 0.00291583\n",
      "Iteration 36, loss = 0.00288465\n",
      "Iteration 37, loss = 0.00285765\n",
      "Iteration 38, loss = 0.00281699\n",
      "Iteration 39, loss = 0.00278517\n",
      "Iteration 40, loss = 0.00275077\n",
      "Iteration 41, loss = 0.00271927\n",
      "Iteration 42, loss = 0.00269358\n",
      "Iteration 43, loss = 0.00266116\n",
      "Iteration 44, loss = 0.00263497\n",
      "Iteration 45, loss = 0.00260795\n",
      "Iteration 46, loss = 0.00258429\n",
      "Iteration 47, loss = 0.00255783\n",
      "Iteration 48, loss = 0.00252920\n",
      "Iteration 49, loss = 0.00250544\n",
      "Iteration 50, loss = 0.00249422\n",
      "Iteration 51, loss = 0.00245530\n",
      "Iteration 52, loss = 0.00243235\n",
      "Iteration 53, loss = 0.00240968\n",
      "Iteration 54, loss = 0.00238362\n",
      "Iteration 55, loss = 0.00236334\n",
      "Iteration 56, loss = 0.00233769\n",
      "Iteration 57, loss = 0.00231909\n",
      "Iteration 58, loss = 0.00230397\n",
      "Iteration 59, loss = 0.00228437\n",
      "Iteration 60, loss = 0.00225949\n",
      "Iteration 61, loss = 0.00225166\n",
      "Iteration 62, loss = 0.00223108\n",
      "Iteration 63, loss = 0.00221344\n",
      "Iteration 64, loss = 0.00220972\n",
      "Iteration 65, loss = 0.00218934\n",
      "Iteration 66, loss = 0.00217234\n",
      "Iteration 67, loss = 0.00216244\n",
      "Iteration 68, loss = 0.00215184\n",
      "Iteration 69, loss = 0.00214141\n",
      "Iteration 70, loss = 0.00213026\n",
      "Iteration 71, loss = 0.00211735\n",
      "Iteration 72, loss = 0.00209598\n",
      "Iteration 73, loss = 0.00207757\n",
      "Iteration 74, loss = 0.00206847\n",
      "Iteration 75, loss = 0.00205854\n",
      "Iteration 76, loss = 0.00204223\n",
      "Iteration 77, loss = 0.00202875\n",
      "Iteration 78, loss = 0.00203234\n",
      "Iteration 79, loss = 0.00201710\n",
      "Iteration 80, loss = 0.00200865\n",
      "Iteration 81, loss = 0.00200527\n",
      "Iteration 82, loss = 0.00198726\n",
      "Iteration 83, loss = 0.00197387\n",
      "Iteration 84, loss = 0.00196583\n",
      "Iteration 85, loss = 0.00195928\n",
      "Iteration 86, loss = 0.00194577\n",
      "Iteration 87, loss = 0.00194257\n",
      "Iteration 88, loss = 0.00192932\n",
      "Iteration 89, loss = 0.00192322\n",
      "Iteration 90, loss = 0.00191585\n",
      "Iteration 91, loss = 0.00191249\n",
      "Iteration 92, loss = 0.00189410\n",
      "Iteration 93, loss = 0.00189210\n",
      "Iteration 94, loss = 0.00188723\n",
      "Iteration 95, loss = 0.00187252\n",
      "Iteration 96, loss = 0.00186496\n",
      "Iteration 97, loss = 0.00185578\n",
      "Iteration 98, loss = 0.00185105\n",
      "Iteration 99, loss = 0.00184456\n",
      "Iteration 100, loss = 0.00184356\n",
      "Iteration 101, loss = 0.00185292\n",
      "Iteration 102, loss = 0.00182892\n",
      "Iteration 103, loss = 0.00181391\n",
      "Iteration 104, loss = 0.00181827\n",
      "Iteration 105, loss = 0.00181387\n",
      "Iteration 106, loss = 0.00180294\n",
      "Iteration 107, loss = 0.00179550\n",
      "Iteration 108, loss = 0.00178189\n",
      "Iteration 109, loss = 0.00177560\n",
      "Iteration 110, loss = 0.00176870\n",
      "Iteration 111, loss = 0.00176190\n",
      "Iteration 112, loss = 0.00175628\n",
      "Iteration 113, loss = 0.00174722\n",
      "Iteration 114, loss = 0.00174087\n",
      "Iteration 115, loss = 0.00173363\n",
      "Iteration 116, loss = 0.00172698\n",
      "Iteration 117, loss = 0.00172391\n",
      "Iteration 118, loss = 0.00172603\n",
      "Iteration 119, loss = 0.00171603\n",
      "Iteration 120, loss = 0.00172576\n",
      "Iteration 121, loss = 0.00170344\n",
      "Iteration 122, loss = 0.00170382\n",
      "Iteration 123, loss = 0.00169725\n",
      "Iteration 124, loss = 0.00169805\n",
      "Iteration 125, loss = 0.00168216\n",
      "Iteration 126, loss = 0.00166777\n",
      "Iteration 127, loss = 0.00166599\n",
      "Iteration 128, loss = 0.00167617\n",
      "Iteration 129, loss = 0.00165719\n",
      "Iteration 130, loss = 0.00165768\n",
      "Iteration 131, loss = 0.00166207\n",
      "Iteration 132, loss = 0.00165786\n",
      "Training loss did not improve more than tol=0.000001 for two consecutive epochs. Stopping.\n"
     ]
    }
   ],
   "source": [
    "n_fit_cas=nn.fit(x_train_cas,y_train_cas)"
   ]
  },
  {
   "cell_type": "code",
   "execution_count": 29,
   "metadata": {},
   "outputs": [],
   "source": [
    "nn.score(x_train_cas,y_train_cas)\n",
    "cas_training_score = nn.score(x_train_cas,y_train_cas)"
   ]
  },
  {
   "cell_type": "code",
   "execution_count": 30,
   "metadata": {},
   "outputs": [],
   "source": [
    "nn.score(x_test_cas,y_test_cas)\n",
    "cas_testing_score = nn.score(x_test_cas,y_test_cas)"
   ]
  },
  {
   "cell_type": "code",
   "execution_count": 31,
   "metadata": {},
   "outputs": [
    {
     "data": {
      "image/png": "[encoded data removed]",
      "text/plain": [
       "<Figure size 432x288 with 1 Axes>"
      ]
     },
     "metadata": {
      "needs_background": "light"
     },
     "output_type": "display_data"
    }
   ],
   "source": [
    "import matplotlib.pyplot as plt\n",
    "fig = plt.figure()\n",
    "epochs_cas = range(0,len(nn.loss_curve_))\n",
    "loss_cas = nn.loss_curve_\n",
    "plt.plot(epochs_cas,nn.loss_curve_)\n",
    "plt.yscale('log')\n",
    "plt.xlabel('Epochs')\n",
    "plt.ylabel('Loss')\n",
    "plt.show()\n",
    "fig.savefig('loss_history_cascades.png')"
   ]
  },
  {
   "cell_type": "code",
   "execution_count": 32,
   "metadata": {},
   "outputs": [],
   "source": [
    "y_predicted_train_cas=nn.predict(x_train_cas)\n",
    "y_predicted_train_cas=np.array(y_predicted_train_cas)\n",
    "y_real_train_cas=np.array(y_train_cas)\n",
    "y_predicted_train_cas.reshape([len(y_predicted_train_cas),1])\n",
    "y_real_train_cas.reshape([len(y_real_train_cas),1])\n",
    "np.savetxt('Predicted_train_cascades.txt',y_predicted_train_cas)\n",
    "np.savetxt('Actual_train_cascades.txt',y_real_train_cas)\n",
    "y_real_test_cas=np.array(y_test_cas)\n",
    "y_predicted_test_cas = np.array(nn.predict(x_test_cas))\n",
    "np.savetxt('Actual_test_cascades.txt',y_real_test_cas.reshape([len(y_real_test_cas),1]))\n",
    "np.savetxt('Predicted_test_cascades.txt',y_predicted_test_cas.reshape([len(y_predicted_test_cas),1]))"
   ]
  },
  {
   "cell_type": "code",
   "execution_count": 33,
   "metadata": {},
   "outputs": [
    {
     "data": {
      "image/png": "[encoded data removed]",
      "text/plain": [
       "<Figure size 432x288 with 1 Axes>"
      ]
     },
     "metadata": {
      "needs_background": "light"
     },
     "output_type": "display_data"
    }
   ],
   "source": [
    "fig = plt.figure()\n",
    "xyrange = [0.8,2.0]\n",
    "plt.scatter(y_real_train_cas,y_predicted_train_cas,s=2,c='k')\n",
    "plt.plot(xyrange,xyrange,'r')\n",
    "plt.xlabel('Actual runtime, s')\n",
    "plt.ylabel('Predicted runtime, s')\n",
    "plt.axis('square')\n",
    "plt.axis([xyrange[0],xyrange[1],xyrange[0],xyrange[1]])\n",
    "plt.show()\n",
    "fig.savefig('Cascades_training.png')"
   ]
  },
  {
   "cell_type": "code",
   "execution_count": 34,
   "metadata": {},
   "outputs": [
    {
     "data": {
      "image/png": "[encoded data removed]",
      "text/plain": [
       "<Figure size 432x288 with 1 Axes>"
      ]
     },
     "metadata": {
      "needs_background": "light"
     },
     "output_type": "display_data"
    }
   ],
   "source": [
    "fig = plt.figure()\n",
    "xyrange = [0.8,2.0]\n",
    "plt.scatter(y_real_test_cas,y_predicted_test_cas,s=2,c='k')\n",
    "plt.plot(xyrange,xyrange,'r')\n",
    "plt.xlabel('Actual runtime, s')\n",
    "plt.ylabel('Predicted runtime, s')\n",
    "plt.axis('square')\n",
    "plt.axis([xyrange[0],xyrange[1],xyrange[0],xyrange[1]])\n",
    "plt.show()\n",
    "fig.savefig('Cascades_testing.png')"
   ]
  },
  {
   "cell_type": "code",
   "execution_count": 35,
   "metadata": {},
   "outputs": [],
   "source": [
    "data_new=pd.read_csv('training_newriver.txt', delimiter='\\s+', index_col=False, header = None)"
   ]
  },
  {
   "cell_type": "code",
   "execution_count": 36,
   "metadata": {},
   "outputs": [],
   "source": [
    "nn = MLPRegressor(\n",
    "    hidden_layer_sizes=(80,3),  activation='relu', solver='adam', alpha=0.005, batch_size=400,\n",
    "    learning_rate='adaptive', learning_rate_init=0.0009, power_t=0.7, max_iter=200, shuffle=True,\n",
    "    random_state=9, tol=0.000001, verbose=True, warm_start=False, momentum=0.9, nesterovs_momentum=True,\n",
    "    early_stopping=False, validation_fraction=0.25, beta_1=0.972, beta_2=0.9, epsilon=1e-9)"
   ]
  },
  {
   "cell_type": "code",
   "execution_count": 37,
   "metadata": {},
   "outputs": [
    {
     "name": "stdout",
     "output_type": "stream",
     "text": [
      "        0    1     2    3     4    5     6    7     8    9     10   11    12  \\\n",
      "0     1000  320   700  256   700   96   600  288   100  256  1000  320   200   \n",
      "1      400  192   100   64   100  256  1000  384   200   96   600  288  1000   \n",
      "2      800  160   300  288   700  384   800  352   200  320   100  352   500   \n",
      "3      700  288   200  352   100  192  1000  320   600  384   300  192   400   \n",
      "4      300  256   200  384  1000  160   600  256   900   64  1000   64   500   \n",
      "5      800   64   300   64   300  384   800  352   600  224   800  224   100   \n",
      "6      700   96   300  224   400  352   500  192   600   32  1000   64   800   \n",
      "7      500  160   800  288   500  384   300  128   600  128   800  384   500   \n",
      "8      700  320  1000  288   700  352   900   32   500  288   600  160   500   \n",
      "9      600  288   100  192   200   96   500  288   200   96   800  128   200   \n",
      "10     700  320   300   64   900  224   700  320  1000   32   600  256   700   \n",
      "11     300  384   900  352   500  384   800  256   800  320   900  128   600   \n",
      "12     100   32   400   96   100  352   600  256   700  352   200  128   800   \n",
      "13    1000   32   200  128   100  352   400  256   400  160   300  224   900   \n",
      "14     100  384   300   64   800   96   600   32   900  192   700  160   700   \n",
      "15     800  256   900  224   200  192  1000   32   200  384   400   32   200   \n",
      "16     200   64   300  192   500  288   400  256   500   96   100  320  1000   \n",
      "17     100   32   300   64   300  192   600   96   700  224   400   96   200   \n",
      "18     500  256   600  352   600  320   700   96   500  384   100  320   900   \n",
      "19     500  320   500  384   900   96   500  352   200  320   500  320   500   \n",
      "20     200  288   400  256   400  352   900  352   400   64  1000   96   300   \n",
      "21     400  192   300  320   500   64   300  224   500   32   500  288  1000   \n",
      "22     300  320  1000  192  1000  288   100  160  1000  224   900  320   400   \n",
      "23     900  256   800  320   200  128   400   96   700  160   900   32   600   \n",
      "24     800  288   700  384   900  192   100   64   200   64   900  224   700   \n",
      "25     900   64   600   32   600  320   800   64   700  288   100  192   800   \n",
      "26     700   32   200  256   900  192   900  320   300   64   100   96   700   \n",
      "27     900  192   400  384   400  256  1000  128   400  352   100  384   900   \n",
      "28     500   64   300  192  1000  256   600   96   200  160   300  192   800   \n",
      "29     600  160   200   32   900  288  1000   32   300  352   300  224   100   \n",
      "...    ...  ...   ...  ...   ...  ...   ...  ...   ...  ...   ...  ...   ...   \n",
      "9969   400  224   900   32   900   64   700  352   600  224   600  320   700   \n",
      "9970   500  384   200   64   500  224   300  288   900  128   300  384  1000   \n",
      "9971   700  160   600  384  1000  352   100  192   300  160   600  256   200   \n",
      "9972  1000  384   200  192   100   64   200  320   500  256   900  256   400   \n",
      "9973   100  320   500  128   900  352   800  384   200  192   200  224   900   \n",
      "9974   200  224   700  288   700  160   500  256   100   96   700   96   500   \n",
      "9975   900  128  1000  256   700  192   100  256   800   96   200  192   700   \n",
      "9976   200  288   900  128   800  128   600  192   900  384   300  128   600   \n",
      "9977   900   32  1000   64   900  352  1000  192   200  384   100   32  1000   \n",
      "9978   900  192   600  160   800  352   200   96   300  160   600  256   400   \n",
      "9979   900  352   100  288   600  256   700  352  1000  128   400   64   600   \n",
      "9980   300  320   600  288   400  320   500   96   800   32   400  160   600   \n",
      "9981   900  256   900  224   300  384   500  384   300   96   800  320   900   \n",
      "9982   300  352   900  256   300  256   900   96   400  320   500  224   100   \n",
      "9983   300  160   700  160   200  320   100  192   300  128   100  352   800   \n",
      "9984   900  224   900  160   600   96   500   32   200  256   300  256  1000   \n",
      "9985   800   32   900  288   500   64   900   32   200   64   500  384   300   \n",
      "9986   300  384   900  352   100   32   800   32   700  288   700   96   600   \n",
      "9987   800  160   900  384   700   64   200  352   100   96   100  224   700   \n",
      "9988   300   32   200  160   400  224   300  160   600  320   900  256   600   \n",
      "9989   100   96   500   32   300   64   500   32   400  256   800   96   900   \n",
      "9990   900  160  1000  224   200  128   600   32   100  352   500  128   600   \n",
      "9991   800  352   500  288   500  384   100  128   700  352   700  192  1000   \n",
      "9992   100  224   900   32   900  160   400  352   300  352   600  288   100   \n",
      "9993   900  192   600  192  1000  320  1000  128   700  256   600  320   600   \n",
      "9994   800  160   700  256  1000  288   900  352   400  192   900  288   300   \n",
      "9995   300   64   100  192   900   32   700  384   400  224   100   64   500   \n",
      "9996   700   32   700  224   200  288   300  160  1000  224   300  192   900   \n",
      "9997   800  256   500   64   600  320   400  288  1000  224   600   32   800   \n",
      "9998   800  384   400   32   900  320   900  288   100  224   800  384   600   \n",
      "\n",
      "       13  \n",
      "0     352  \n",
      "1      64  \n",
      "2     320  \n",
      "3     320  \n",
      "4      96  \n",
      "5      32  \n",
      "6     384  \n",
      "7     128  \n",
      "8     384  \n",
      "9     224  \n",
      "10    288  \n",
      "11    320  \n",
      "12    384  \n",
      "13    288  \n",
      "14    320  \n",
      "15    320  \n",
      "16    224  \n",
      "17     64  \n",
      "18    192  \n",
      "19    128  \n",
      "20    352  \n",
      "21    320  \n",
      "22    224  \n",
      "23    320  \n",
      "24    352  \n",
      "25     32  \n",
      "26     96  \n",
      "27    288  \n",
      "28    352  \n",
      "29    192  \n",
      "...   ...  \n",
      "9969  192  \n",
      "9970  224  \n",
      "9971  320  \n",
      "9972  384  \n",
      "9973  256  \n",
      "9974  128  \n",
      "9975  352  \n",
      "9976   64  \n",
      "9977  192  \n",
      "9978   96  \n",
      "9979  288  \n",
      "9980  160  \n",
      "9981  192  \n",
      "9982  384  \n",
      "9983   64  \n",
      "9984  352  \n",
      "9985  192  \n",
      "9986  320  \n",
      "9987  384  \n",
      "9988   64  \n",
      "9989  256  \n",
      "9990  320  \n",
      "9991  288  \n",
      "9992   64  \n",
      "9993   32  \n",
      "9994  160  \n",
      "9995  320  \n",
      "9996  320  \n",
      "9997  320  \n",
      "9998  288  \n",
      "\n",
      "[9999 rows x 14 columns]\n",
      "0       1.206689\n",
      "1       1.217383\n",
      "2       1.236169\n",
      "3       1.242834\n",
      "4       1.192229\n",
      "5       1.349454\n",
      "6       1.192540\n",
      "7       1.263391\n",
      "8       1.243834\n",
      "9       1.289997\n",
      "10      1.153275\n",
      "11      1.202263\n",
      "12      1.276504\n",
      "13      1.241337\n",
      "14      1.255434\n",
      "15      1.339180\n",
      "16      1.250632\n",
      "17      1.242178\n",
      "18      1.237968\n",
      "19      1.252116\n",
      "20      1.276899\n",
      "21      1.206009\n",
      "22      1.217997\n",
      "23      1.262908\n",
      "24      1.146923\n",
      "25      1.262090\n",
      "26      1.414105\n",
      "27      1.197810\n",
      "28      1.169853\n",
      "29      1.184959\n",
      "          ...   \n",
      "9969    1.276635\n",
      "9970    1.178080\n",
      "9971    1.225731\n",
      "9972    1.266374\n",
      "9973    1.244990\n",
      "9974    1.208803\n",
      "9975    1.201084\n",
      "9976    1.243395\n",
      "9977    1.565010\n",
      "9978    1.209105\n",
      "9979    1.226841\n",
      "9980    1.224624\n",
      "9981    1.240275\n",
      "9982    1.199958\n",
      "9983    1.234998\n",
      "9984    1.216047\n",
      "9985    1.327430\n",
      "9986    1.425995\n",
      "9987    1.291594\n",
      "9988    1.160233\n",
      "9989    1.205693\n",
      "9990    1.218189\n",
      "9991    1.179938\n",
      "9992    1.281724\n",
      "9993    1.219990\n",
      "9994    1.219502\n",
      "9995    1.425236\n",
      "9996    1.195868\n",
      "9997    1.254961\n",
      "9998    1.193052\n",
      "Name: 14, Length: 9999, dtype: float64\n"
     ]
    }
   ],
   "source": [
    "inputs_new=data_new.iloc[:,:14]\n",
    "outputs_new=data_new.iloc[:,14]\n",
    "print(inputs_new)\n",
    "print(outputs_new)"
   ]
  },
  {
   "cell_type": "code",
   "execution_count": 38,
   "metadata": {},
   "outputs": [],
   "source": [
    "x_train_new, x_test_new, y_train_new, y_test_new = train_test_split(inputs_new, outputs_new, random_state=9)"
   ]
  },
  {
   "cell_type": "code",
   "execution_count": 39,
   "metadata": {},
   "outputs": [
    {
     "name": "stdout",
     "output_type": "stream",
     "text": [
      "7499\n",
      "2500\n"
     ]
    }
   ],
   "source": [
    "print(len(x_train_new))\n",
    "print(len(x_test_new))"
   ]
  },
  {
   "cell_type": "code",
   "execution_count": 40,
   "metadata": {},
   "outputs": [],
   "source": [
    "scaler_new = StandardScaler()"
   ]
  },
  {
   "cell_type": "code",
   "execution_count": 41,
   "metadata": {},
   "outputs": [
    {
     "data": {
      "text/plain": [
       "StandardScaler(copy=True, with_mean=True, with_std=True)"
      ]
     },
     "execution_count": 41,
     "metadata": {},
     "output_type": "execute_result"
    }
   ],
   "source": [
    "scaler_new.fit(x_train_new)"
   ]
  },
  {
   "cell_type": "code",
   "execution_count": 42,
   "metadata": {},
   "outputs": [],
   "source": [
    "x_train_new = scaler_new.transform(x_train_new)\n",
    "x_test_new = scaler_new.transform(x_test_new)"
   ]
  },
  {
   "cell_type": "code",
   "execution_count": 43,
   "metadata": {},
   "outputs": [
    {
     "name": "stdout",
     "output_type": "stream",
     "text": [
      "Iteration 1, loss = 0.13251758\n",
      "Iteration 2, loss = 0.04286304\n",
      "Iteration 3, loss = 0.02617427\n",
      "Iteration 4, loss = 0.02243807\n",
      "Iteration 5, loss = 0.01428101\n",
      "Iteration 6, loss = 0.00807996\n",
      "Iteration 7, loss = 0.00911610\n",
      "Iteration 8, loss = 0.00789555\n",
      "Iteration 9, loss = 0.00581828\n",
      "Iteration 10, loss = 0.00495305\n",
      "Iteration 11, loss = 0.00484165\n",
      "Iteration 12, loss = 0.00413412\n",
      "Iteration 13, loss = 0.00375827\n",
      "Iteration 14, loss = 0.00360724\n",
      "Iteration 15, loss = 0.00325729\n",
      "Iteration 16, loss = 0.00309888\n",
      "Iteration 17, loss = 0.00289361\n",
      "Iteration 18, loss = 0.00274482\n",
      "Iteration 19, loss = 0.00259540\n",
      "Iteration 20, loss = 0.00246089\n",
      "Iteration 21, loss = 0.00233948\n",
      "Iteration 22, loss = 0.00224295\n",
      "Iteration 23, loss = 0.00215839\n",
      "Iteration 24, loss = 0.00208534\n",
      "Iteration 25, loss = 0.00202145\n",
      "Iteration 26, loss = 0.00195661\n",
      "Iteration 27, loss = 0.00190838\n",
      "Iteration 28, loss = 0.00185468\n",
      "Iteration 29, loss = 0.00181185\n",
      "Iteration 30, loss = 0.00176592\n",
      "Iteration 31, loss = 0.00172930\n",
      "Iteration 32, loss = 0.00168664\n",
      "Iteration 33, loss = 0.00166347\n",
      "Iteration 34, loss = 0.00163040\n",
      "Iteration 35, loss = 0.00159930\n",
      "Iteration 36, loss = 0.00156589\n",
      "Iteration 37, loss = 0.00153672\n",
      "Iteration 38, loss = 0.00150578\n",
      "Iteration 39, loss = 0.00148115\n",
      "Iteration 40, loss = 0.00144986\n",
      "Iteration 41, loss = 0.00142130\n",
      "Iteration 42, loss = 0.00139534\n",
      "Iteration 43, loss = 0.00137196\n",
      "Iteration 44, loss = 0.00135658\n",
      "Iteration 45, loss = 0.00132498\n",
      "Iteration 46, loss = 0.00130382\n",
      "Iteration 47, loss = 0.00128731\n",
      "Iteration 48, loss = 0.00126339\n",
      "Iteration 49, loss = 0.00124997\n",
      "Iteration 50, loss = 0.00122859\n",
      "Iteration 51, loss = 0.00121362\n",
      "Iteration 52, loss = 0.00119143\n",
      "Iteration 53, loss = 0.00117354\n",
      "Iteration 54, loss = 0.00115918\n",
      "Iteration 55, loss = 0.00114387\n",
      "Iteration 56, loss = 0.00112986\n",
      "Iteration 57, loss = 0.00111483\n",
      "Iteration 58, loss = 0.00110205\n",
      "Iteration 59, loss = 0.00109101\n",
      "Iteration 60, loss = 0.00108846\n",
      "Iteration 61, loss = 0.00107170\n",
      "Iteration 62, loss = 0.00105835\n",
      "Iteration 63, loss = 0.00105295\n",
      "Iteration 64, loss = 0.00104394\n",
      "Iteration 65, loss = 0.00103081\n",
      "Iteration 66, loss = 0.00101539\n",
      "Iteration 67, loss = 0.00100492\n",
      "Iteration 68, loss = 0.00099761\n",
      "Iteration 69, loss = 0.00098595\n",
      "Iteration 70, loss = 0.00097830\n",
      "Iteration 71, loss = 0.00097510\n",
      "Iteration 72, loss = 0.00096775\n",
      "Iteration 73, loss = 0.00095494\n",
      "Iteration 74, loss = 0.00095959\n",
      "Iteration 75, loss = 0.00095079\n",
      "Iteration 76, loss = 0.00094363\n",
      "Iteration 77, loss = 0.00093666\n",
      "Iteration 78, loss = 0.00092566\n",
      "Iteration 79, loss = 0.00092229\n",
      "Iteration 80, loss = 0.00091534\n",
      "Iteration 81, loss = 0.00091054\n",
      "Iteration 82, loss = 0.00090288\n",
      "Iteration 83, loss = 0.00089887\n",
      "Iteration 84, loss = 0.00089134\n",
      "Iteration 85, loss = 0.00089220\n",
      "Iteration 86, loss = 0.00089127\n",
      "Iteration 87, loss = 0.00088005\n",
      "Iteration 88, loss = 0.00087839\n",
      "Iteration 89, loss = 0.00087289\n",
      "Iteration 90, loss = 0.00086823\n",
      "Iteration 91, loss = 0.00085973\n",
      "Iteration 92, loss = 0.00085625\n",
      "Iteration 93, loss = 0.00085478\n",
      "Iteration 94, loss = 0.00085703\n",
      "Iteration 95, loss = 0.00085486\n",
      "Iteration 96, loss = 0.00084434\n",
      "Iteration 97, loss = 0.00084451\n",
      "Iteration 98, loss = 0.00083784\n",
      "Iteration 99, loss = 0.00083240\n",
      "Iteration 100, loss = 0.00083691\n",
      "Iteration 101, loss = 0.00083448\n",
      "Iteration 102, loss = 0.00082731\n",
      "Iteration 103, loss = 0.00082373\n",
      "Iteration 104, loss = 0.00082143\n",
      "Iteration 105, loss = 0.00081724\n",
      "Iteration 106, loss = 0.00081584\n",
      "Iteration 107, loss = 0.00081484\n",
      "Iteration 108, loss = 0.00080686\n",
      "Iteration 109, loss = 0.00080637\n",
      "Iteration 110, loss = 0.00080589\n",
      "Iteration 111, loss = 0.00080909\n",
      "Training loss did not improve more than tol=0.000001 for two consecutive epochs. Stopping.\n"
     ]
    }
   ],
   "source": [
    "n_fit_new=nn.fit(x_train_new,y_train_new)"
   ]
  },
  {
   "cell_type": "code",
   "execution_count": 44,
   "metadata": {},
   "outputs": [],
   "source": [
    "nn.score(x_train_new,y_train_new)\n",
    "new_training_score = nn.score(x_train_new,y_train_new)"
   ]
  },
  {
   "cell_type": "code",
   "execution_count": 45,
   "metadata": {},
   "outputs": [],
   "source": [
    "nn.score(x_test_new,y_test_new)\n",
    "new_testing_score = nn.score(x_test_new,y_test_new)"
   ]
  },
  {
   "cell_type": "code",
   "execution_count": 46,
   "metadata": {},
   "outputs": [
    {
     "data": {
      "image/png": "[encoded data removed]",
      "text/plain": [
       "<Figure size 432x288 with 1 Axes>"
      ]
     },
     "metadata": {
      "needs_background": "light"
     },
     "output_type": "display_data"
    }
   ],
   "source": [
    "import matplotlib.pyplot as plt\n",
    "fig = plt.figure()\n",
    "epochs_new = range(0,len(nn.loss_curve_))\n",
    "loss_new = nn.loss_curve_\n",
    "plt.plot(epochs_new,nn.loss_curve_)\n",
    "plt.yscale('log')\n",
    "plt.xlabel('Epochs')\n",
    "plt.ylabel('Loss')\n",
    "plt.show()\n",
    "fig.savefig('loss_history_newriver.png')"
   ]
  },
  {
   "cell_type": "code",
   "execution_count": 47,
   "metadata": {},
   "outputs": [],
   "source": [
    "y_predicted_train_new=nn.predict(x_train_new)\n",
    "y_predicted_train_new=np.array(y_predicted_train_new)\n",
    "y_real_train_new=np.array(y_train_new)\n",
    "y_predicted_train_new.reshape([len(y_predicted_train_new),1])\n",
    "y_real_train_new.reshape([len(y_real_train_new),1])\n",
    "np.savetxt('Predicted_train_newriver.txt',y_predicted_train_new)\n",
    "np.savetxt('Actual_train_newriver.txt',y_real_train_new)\n",
    "y_real_test_new=np.array(y_test_new)\n",
    "y_predicted_test_new = np.array(nn.predict(x_test_new))\n",
    "np.savetxt('Actual_test_newriver.txt',y_real_test_new.reshape([len(y_real_test_new),1]))\n",
    "np.savetxt('Predicted_test_newriver.txt',y_predicted_test_new.reshape([len(y_predicted_test_new),1]))"
   ]
  },
  {
   "cell_type": "code",
   "execution_count": 48,
   "metadata": {},
   "outputs": [
    {
     "data": {
      "image/png": "[encoded data removed]",
      "text/plain": [
       "<Figure size 432x288 with 1 Axes>"
      ]
     },
     "metadata": {
      "needs_background": "light"
     },
     "output_type": "display_data"
    }
   ],
   "source": [
    "fig = plt.figure()\n",
    "xyrange = [0.8,2.0]\n",
    "plt.scatter(y_real_train_new,y_predicted_train_new,s=2,c='k')\n",
    "plt.plot(xyrange,xyrange,'r')\n",
    "plt.xlabel('Actual runtime, s')\n",
    "plt.ylabel('Predicted runtime, s')\n",
    "plt.axis('square')\n",
    "plt.axis([xyrange[0],xyrange[1],xyrange[0],xyrange[1]])\n",
    "plt.show()\n",
    "fig.savefig('Newriver_training.png')"
   ]
  },
  {
   "cell_type": "code",
   "execution_count": 49,
   "metadata": {},
   "outputs": [
    {
     "data": {
      "image/png": "[encoded data removed]",
      "text/plain": [
       "<Figure size 432x288 with 1 Axes>"
      ]
     },
     "metadata": {
      "needs_background": "light"
     },
     "output_type": "display_data"
    }
   ],
   "source": [
    "fig = plt.figure()\n",
    "xyrange = [0.8,2.0]\n",
    "plt.scatter(y_real_test_new,y_predicted_test_new,s=2,c='k')\n",
    "plt.plot(xyrange,xyrange,'r')\n",
    "plt.xlabel('Actual runtime, s')\n",
    "plt.ylabel('Predicted runtime, s')\n",
    "plt.axis('square')\n",
    "plt.axis([xyrange[0],xyrange[1],xyrange[0],xyrange[1]])\n",
    "plt.show()\n",
    "fig.savefig('Newriver_testing.png')"
   ]
  },
  {
   "cell_type": "code",
   "execution_count": 50,
   "metadata": {},
   "outputs": [
    {
     "data": {
      "image/png": "[encoded data removed]",
      "text/plain": [
       "<Figure size 432x288 with 1 Axes>"
      ]
     },
     "metadata": {
      "needs_background": "light"
     },
     "output_type": "display_data"
    }
   ],
   "source": [
    "import matplotlib.pyplot as plt\n",
    "fig = plt.figure()\n",
    "plt.plot(epochs,loss_thermisto,label='C2075',linestyle='-')\n",
    "plt.plot(epochs_cas,loss_cas,label='V100',linestyle='--')\n",
    "plt.plot(epochs_new,loss_new,label='P100',linestyle='-.')\n",
    "plt.yscale('log')\n",
    "plt.xlabel('Epochs')\n",
    "plt.ylabel('Loss')\n",
    "plt.legend(loc='upper right')\n",
    "plt.show()\n",
    "fig.savefig('loss_history_threeGPUs.png')"
   ]
  },
  {
   "cell_type": "code",
   "execution_count": 51,
   "metadata": {},
   "outputs": [],
   "source": [
    "data_com=pd.read_csv('training_combined.csv')"
   ]
  },
  {
   "cell_type": "code",
   "execution_count": 52,
   "metadata": {},
   "outputs": [],
   "source": [
    "nn = MLPRegressor(\n",
    "    hidden_layer_sizes=(80,3),  activation='relu', solver='adam', alpha=0.005, batch_size=400,\n",
    "    learning_rate='adaptive', learning_rate_init=0.0009, power_t=0.7, max_iter=200, shuffle=True,\n",
    "    random_state=9, tol=0.000001, verbose=True, warm_start=False, momentum=0.9, nesterovs_momentum=True,\n",
    "    early_stopping=False, validation_fraction=0.25, beta_1=0.972, beta_2=0.9, epsilon=1e-9)"
   ]
  },
  {
   "cell_type": "code",
   "execution_count": 53,
   "metadata": {},
   "outputs": [
    {
     "name": "stdout",
     "output_type": "stream",
     "text": [
      "       inviscid_rhs_xi_limiter_g  inviscid_rhs_xi_limiter_v  \\\n",
      "0                           1000                        192   \n",
      "1                            800                        160   \n",
      "2                            400                        128   \n",
      "3                            200                        256   \n",
      "4                            100                        288   \n",
      "5                            700                        224   \n",
      "6                            800                        160   \n",
      "7                           1000                         64   \n",
      "8                            700                        288   \n",
      "9                            600                         32   \n",
      "10                           200                        384   \n",
      "11                           900                        384   \n",
      "12                           100                        224   \n",
      "13                           700                        128   \n",
      "14                           600                        192   \n",
      "15                          1000                        224   \n",
      "16                           800                        352   \n",
      "17                           800                        256   \n",
      "18                           900                        192   \n",
      "19                           600                        320   \n",
      "20                          1000                         96   \n",
      "21                           800                        224   \n",
      "22                           800                        128   \n",
      "23                           600                        160   \n",
      "24                           200                        320   \n",
      "25                           200                        320   \n",
      "26                           600                        128   \n",
      "27                           300                         96   \n",
      "28                           900                        288   \n",
      "29                           600                        320   \n",
      "...                          ...                        ...   \n",
      "29969                        400                        224   \n",
      "29970                        500                        384   \n",
      "29971                        700                        160   \n",
      "29972                       1000                        384   \n",
      "29973                        100                        320   \n",
      "29974                        200                        224   \n",
      "29975                        900                        128   \n",
      "29976                        200                        288   \n",
      "29977                        900                         32   \n",
      "29978                        900                        192   \n",
      "29979                        900                        352   \n",
      "29980                        300                        320   \n",
      "29981                        900                        256   \n",
      "29982                        300                        352   \n",
      "29983                        300                        160   \n",
      "29984                        900                        224   \n",
      "29985                        800                         32   \n",
      "29986                        300                        384   \n",
      "29987                        800                        160   \n",
      "29988                        300                         32   \n",
      "29989                        100                         96   \n",
      "29990                        900                        160   \n",
      "29991                        800                        352   \n",
      "29992                        100                        224   \n",
      "29993                        900                        192   \n",
      "29994                        800                        160   \n",
      "29995                        300                         64   \n",
      "29996                        700                         32   \n",
      "29997                        800                        256   \n",
      "29998                        800                        384   \n",
      "\n",
      "       inviscid_rhs_eta_limiter_g  inviscid_rhs_eta_limiter_v  \\\n",
      "0                             500                         128   \n",
      "1                             600                         160   \n",
      "2                             100                          32   \n",
      "3                             900                         192   \n",
      "4                             200                         256   \n",
      "5                             800                         192   \n",
      "6                             700                         224   \n",
      "7                             500                         288   \n",
      "8                             200                         192   \n",
      "9                             300                         320   \n",
      "10                            400                         224   \n",
      "11                            800                         224   \n",
      "12                            500                         352   \n",
      "13                            400                         224   \n",
      "14                           1000                          32   \n",
      "15                            600                         288   \n",
      "16                            700                         384   \n",
      "17                            800                         320   \n",
      "18                            300                         160   \n",
      "19                            400                         192   \n",
      "20                            600                         320   \n",
      "21                            800                         384   \n",
      "22                            300                          96   \n",
      "23                            900                         128   \n",
      "24                            800                          64   \n",
      "25                            500                         192   \n",
      "26                           1000                         192   \n",
      "27                            300                         160   \n",
      "28                            400                         192   \n",
      "29                            200                         128   \n",
      "...                           ...                         ...   \n",
      "29969                         900                          32   \n",
      "29970                         200                          64   \n",
      "29971                         600                         384   \n",
      "29972                         200                         192   \n",
      "29973                         500                         128   \n",
      "29974                         700                         288   \n",
      "29975                        1000                         256   \n",
      "29976                         900                         128   \n",
      "29977                        1000                          64   \n",
      "29978                         600                         160   \n",
      "29979                         100                         288   \n",
      "29980                         600                         288   \n",
      "29981                         900                         224   \n",
      "29982                         900                         256   \n",
      "29983                         700                         160   \n",
      "29984                         900                         160   \n",
      "29985                         900                         288   \n",
      "29986                         900                         352   \n",
      "29987                         900                         384   \n",
      "29988                         200                         160   \n",
      "29989                         500                          32   \n",
      "29990                        1000                         224   \n",
      "29991                         500                         288   \n",
      "29992                         900                          32   \n",
      "29993                         600                         192   \n",
      "29994                         700                         256   \n",
      "29995                         100                         192   \n",
      "29996                         700                         224   \n",
      "29997                         500                          64   \n",
      "29998                         400                          32   \n",
      "\n",
      "       inviscid_rhs_xi_flux_g  inviscid_rhs_xi_flux_v  \\\n",
      "0                         400                     160   \n",
      "1                         300                      64   \n",
      "2                         700                     256   \n",
      "3                         800                     160   \n",
      "4                         900                     256   \n",
      "5                         400                      64   \n",
      "6                         600                      32   \n",
      "7                         600                     384   \n",
      "8                         900                      64   \n",
      "9                         900                     224   \n",
      "10                        900                     288   \n",
      "11                        700                     320   \n",
      "12                        600                     352   \n",
      "13                        900                     160   \n",
      "14                        800                      96   \n",
      "15                        800                      96   \n",
      "16                        400                     128   \n",
      "17                        800                     224   \n",
      "18                        400                     160   \n",
      "19                        600                      64   \n",
      "20                        100                      32   \n",
      "21                        500                     288   \n",
      "22                        600                     192   \n",
      "23                        300                     320   \n",
      "24                        100                     384   \n",
      "25                       1000                     384   \n",
      "26                        300                     384   \n",
      "27                        800                     320   \n",
      "28                        700                     192   \n",
      "29                        900                      32   \n",
      "...                       ...                     ...   \n",
      "29969                     900                      64   \n",
      "29970                     500                     224   \n",
      "29971                    1000                     352   \n",
      "29972                     100                      64   \n",
      "29973                     900                     352   \n",
      "29974                     700                     160   \n",
      "29975                     700                     192   \n",
      "29976                     800                     128   \n",
      "29977                     900                     352   \n",
      "29978                     800                     352   \n",
      "29979                     600                     256   \n",
      "29980                     400                     320   \n",
      "29981                     300                     384   \n",
      "29982                     300                     256   \n",
      "29983                     200                     320   \n",
      "29984                     600                      96   \n",
      "29985                     500                      64   \n",
      "29986                     100                      32   \n",
      "29987                     700                      64   \n",
      "29988                     400                     224   \n",
      "29989                     300                      64   \n",
      "29990                     200                     128   \n",
      "29991                     500                     384   \n",
      "29992                     900                     160   \n",
      "29993                    1000                     320   \n",
      "29994                    1000                     288   \n",
      "29995                     900                      32   \n",
      "29996                     200                     288   \n",
      "29997                     600                     320   \n",
      "29998                     900                     320   \n",
      "\n",
      "       inviscid_rhs_eta_flux_g  inviscid_rhs_eta_flux_v  \\\n",
      "0                          700                      160   \n",
      "1                          800                      384   \n",
      "2                         1000                      288   \n",
      "3                          700                      192   \n",
      "4                          700                       32   \n",
      "5                          200                      384   \n",
      "6                          700                      128   \n",
      "7                          100                       64   \n",
      "8                          200                      352   \n",
      "9                          600                      192   \n",
      "10                         700                      288   \n",
      "11                         500                      352   \n",
      "12                         400                      256   \n",
      "13                        1000                      320   \n",
      "14                        1000                      352   \n",
      "15                         900                       96   \n",
      "16                        1000                      224   \n",
      "17                         100                      256   \n",
      "18                         800                      352   \n",
      "19                         500                      288   \n",
      "20                         700                      256   \n",
      "21                         200                      192   \n",
      "22                        1000                      224   \n",
      "23                         700                      128   \n",
      "24                        1000                      256   \n",
      "25                         400                      128   \n",
      "26                         600                       64   \n",
      "27                         500                      288   \n",
      "28                        1000                      320   \n",
      "29                         500                      128   \n",
      "...                        ...                      ...   \n",
      "29969                      700                      352   \n",
      "29970                      300                      288   \n",
      "29971                      100                      192   \n",
      "29972                      200                      320   \n",
      "29973                      800                      384   \n",
      "29974                      500                      256   \n",
      "29975                      100                      256   \n",
      "29976                      600                      192   \n",
      "29977                     1000                      192   \n",
      "29978                      200                       96   \n",
      "29979                      700                      352   \n",
      "29980                      500                       96   \n",
      "29981                      500                      384   \n",
      "29982                      900                       96   \n",
      "29983                      100                      192   \n",
      "29984                      500                       32   \n",
      "29985                      900                       32   \n",
      "29986                      800                       32   \n",
      "29987                      200                      352   \n",
      "29988                      300                      160   \n",
      "29989                      500                       32   \n",
      "29990                      600                       32   \n",
      "29991                      100                      128   \n",
      "29992                      400                      352   \n",
      "29993                     1000                      128   \n",
      "29994                      900                      352   \n",
      "29995                      700                      384   \n",
      "29996                      300                      160   \n",
      "29997                      400                      288   \n",
      "29998                      900                      288   \n",
      "\n",
      "       inviscid_rhs_source_terms_g  inviscid_rhs_source_terms_g.1  \\\n",
      "0                              200                            256   \n",
      "1                              700                            288   \n",
      "2                             1000                            288   \n",
      "3                              600                            384   \n",
      "4                              900                            160   \n",
      "5                              300                             96   \n",
      "6                              100                            320   \n",
      "7                              200                            352   \n",
      "8                              300                            352   \n",
      "9                              700                            128   \n",
      "10                             600                             64   \n",
      "11                             500                            160   \n",
      "12                             200                            352   \n",
      "13                             300                            384   \n",
      "14                             800                            320   \n",
      "15                             200                            352   \n",
      "16                             200                            192   \n",
      "17                             200                            160   \n",
      "18                             300                            224   \n",
      "19                             600                            288   \n",
      "20                             100                            192   \n",
      "21                             400                            352   \n",
      "22                             100                            352   \n",
      "23                             600                             64   \n",
      "24                             400                            160   \n",
      "25                             400                            192   \n",
      "26                             600                            352   \n",
      "27                            1000                            224   \n",
      "28                             500                            128   \n",
      "29                             900                            384   \n",
      "...                            ...                            ...   \n",
      "29969                          600                            224   \n",
      "29970                          900                            128   \n",
      "29971                          300                            160   \n",
      "29972                          500                            256   \n",
      "29973                          200                            192   \n",
      "29974                          100                             96   \n",
      "29975                          800                             96   \n",
      "29976                          900                            384   \n",
      "29977                          200                            384   \n",
      "29978                          300                            160   \n",
      "29979                         1000                            128   \n",
      "29980                          800                             32   \n",
      "29981                          300                             96   \n",
      "29982                          400                            320   \n",
      "29983                          300                            128   \n",
      "29984                          200                            256   \n",
      "29985                          200                             64   \n",
      "29986                          700                            288   \n",
      "29987                          100                             96   \n",
      "29988                          600                            320   \n",
      "29989                          400                            256   \n",
      "29990                          100                            352   \n",
      "29991                          700                            352   \n",
      "29992                          300                            352   \n",
      "29993                          700                            256   \n",
      "29994                          400                            192   \n",
      "29995                          400                            224   \n",
      "29996                         1000                            224   \n",
      "29997                         1000                            224   \n",
      "29998                          100                            224   \n",
      "\n",
      "       inviscid_rhs_g  inviscid_rhs_v  sensei_routines_update_soln_g  \\\n",
      "0                 800             192                            400   \n",
      "1                 500             192                            100   \n",
      "2                 100             288                            500   \n",
      "3                 200             224                            300   \n",
      "4                 400             192                            400   \n",
      "5                 600             384                            100   \n",
      "6                 500             128                            700   \n",
      "7                 100             320                            600   \n",
      "8                 900             128                           1000   \n",
      "9                 400             384                            300   \n",
      "10                200             160                            200   \n",
      "11                600             128                            500   \n",
      "12                400             384                           1000   \n",
      "13                100             288                            100   \n",
      "14                600             384                           1000   \n",
      "15                500             256                            900   \n",
      "16                600             384                            900   \n",
      "17                700             256                            200   \n",
      "18                100             288                            800   \n",
      "19                300              32                            900   \n",
      "20                800              96                            400   \n",
      "21                600             256                            900   \n",
      "22                800             224                            300   \n",
      "23                400             288                            400   \n",
      "24                200             320                            200   \n",
      "25                400             352                            600   \n",
      "26                900             256                            500   \n",
      "27                200              32                           1000   \n",
      "28                200             224                            600   \n",
      "29                900             288                            800   \n",
      "...               ...             ...                            ...   \n",
      "29969             600             320                            700   \n",
      "29970             300             384                           1000   \n",
      "29971             600             256                            200   \n",
      "29972             900             256                            400   \n",
      "29973             200             224                            900   \n",
      "29974             700              96                            500   \n",
      "29975             200             192                            700   \n",
      "29976             300             128                            600   \n",
      "29977             100              32                           1000   \n",
      "29978             600             256                            400   \n",
      "29979             400              64                            600   \n",
      "29980             400             160                            600   \n",
      "29981             800             320                            900   \n",
      "29982             500             224                            100   \n",
      "29983             100             352                            800   \n",
      "29984             300             256                           1000   \n",
      "29985             500             384                            300   \n",
      "29986             700              96                            600   \n",
      "29987             100             224                            700   \n",
      "29988             900             256                            600   \n",
      "29989             800              96                            900   \n",
      "29990             500             128                            600   \n",
      "29991             700             192                           1000   \n",
      "29992             600             288                            100   \n",
      "29993             600             320                            600   \n",
      "29994             900             288                            300   \n",
      "29995             100              64                            500   \n",
      "29996             300             192                            900   \n",
      "29997             600              32                            800   \n",
      "29998             800             384                            600   \n",
      "\n",
      "       sensei_routines_update_soln_v  Gflops  \n",
      "0                                128    1028  \n",
      "1                                192    1028  \n",
      "2                                288    1028  \n",
      "3                                256    1028  \n",
      "4                                320    1028  \n",
      "5                                160    1028  \n",
      "6                                224    1028  \n",
      "7                                 96    1028  \n",
      "8                                352    1028  \n",
      "9                                 32    1028  \n",
      "10                               256    1028  \n",
      "11                               320    1028  \n",
      "12                               160    1028  \n",
      "13                               160    1028  \n",
      "14                                64    1028  \n",
      "15                               384    1028  \n",
      "16                                32    1028  \n",
      "17                               192    1028  \n",
      "18                                96    1028  \n",
      "19                                96    1028  \n",
      "20                               128    1028  \n",
      "21                               352    1028  \n",
      "22                               256    1028  \n",
      "23                                32    1028  \n",
      "24                               256    1028  \n",
      "25                               224    1028  \n",
      "26                               352    1028  \n",
      "27                               352    1028  \n",
      "28                               320    1028  \n",
      "29                                96    1028  \n",
      "...                              ...     ...  \n",
      "29969                            192    9526  \n",
      "29970                            224    9526  \n",
      "29971                            320    9526  \n",
      "29972                            384    9526  \n",
      "29973                            256    9526  \n",
      "29974                            128    9526  \n",
      "29975                            352    9526  \n",
      "29976                             64    9526  \n",
      "29977                            192    9526  \n",
      "29978                             96    9526  \n",
      "29979                            288    9526  \n",
      "29980                            160    9526  \n",
      "29981                            192    9526  \n",
      "29982                            384    9526  \n",
      "29983                             64    9526  \n",
      "29984                            352    9526  \n",
      "29985                            192    9526  \n",
      "29986                            320    9526  \n",
      "29987                            384    9526  \n",
      "29988                             64    9526  \n",
      "29989                            256    9526  \n",
      "29990                            320    9526  \n",
      "29991                            288    9526  \n",
      "29992                             64    9526  \n",
      "29993                             32    9526  \n",
      "29994                            160    9526  \n",
      "29995                            320    9526  \n",
      "29996                            320    9526  \n",
      "29997                            320    9526  \n",
      "29998                            288    9526  \n",
      "\n",
      "[29999 rows x 15 columns]\n",
      "0        1.263134\n",
      "1        1.168355\n",
      "2        1.046632\n",
      "3        1.174907\n",
      "4        1.140148\n",
      "5        1.167929\n",
      "6        1.200542\n",
      "7        1.178291\n",
      "8        1.147764\n",
      "9        1.123178\n",
      "10       1.047292\n",
      "11       1.080997\n",
      "12       1.183725\n",
      "13       1.148000\n",
      "14       1.129179\n",
      "15       1.176807\n",
      "16       1.173099\n",
      "17       1.164325\n",
      "18       1.183078\n",
      "19       1.100260\n",
      "20       1.193964\n",
      "21       1.077690\n",
      "22       1.209483\n",
      "23       1.174487\n",
      "24       1.225177\n",
      "25       1.180079\n",
      "26       1.177053\n",
      "27       1.094302\n",
      "28       1.099181\n",
      "29       1.201958\n",
      "           ...   \n",
      "29969    1.276635\n",
      "29970    1.178080\n",
      "29971    1.225731\n",
      "29972    1.266374\n",
      "29973    1.244990\n",
      "29974    1.208803\n",
      "29975    1.201084\n",
      "29976    1.243395\n",
      "29977    1.565010\n",
      "29978    1.209105\n",
      "29979    1.226841\n",
      "29980    1.224624\n",
      "29981    1.240275\n",
      "29982    1.199958\n",
      "29983    1.234998\n",
      "29984    1.216047\n",
      "29985    1.327430\n",
      "29986    1.425995\n",
      "29987    1.291594\n",
      "29988    1.160233\n",
      "29989    1.205693\n",
      "29990    1.218189\n",
      "29991    1.179938\n",
      "29992    1.281724\n",
      "29993    1.219990\n",
      "29994    1.219502\n",
      "29995    1.425236\n",
      "29996    1.195868\n",
      "29997    1.254961\n",
      "29998    1.193052\n",
      "Name: raw_time, Length: 29999, dtype: float64\n"
     ]
    }
   ],
   "source": [
    "inputs_com=data_com.iloc[:,:15]\n",
    "outputs_com=data_com.iloc[:,15] # or consider to use column 16\n",
    "print(inputs_com)\n",
    "print(outputs_com)"
   ]
  },
  {
   "cell_type": "code",
   "execution_count": 54,
   "metadata": {},
   "outputs": [],
   "source": [
    "x_train_com, x_test_com, y_train_com, y_test_com = train_test_split(inputs_com, outputs_com, random_state=9)"
   ]
  },
  {
   "cell_type": "code",
   "execution_count": 55,
   "metadata": {},
   "outputs": [
    {
     "name": "stdout",
     "output_type": "stream",
     "text": [
      "22499\n",
      "7500\n"
     ]
    }
   ],
   "source": [
    "print(len(x_train_com))\n",
    "print(len(x_test_com))"
   ]
  },
  {
   "cell_type": "code",
   "execution_count": 56,
   "metadata": {},
   "outputs": [],
   "source": [
    "scaler_com = StandardScaler()"
   ]
  },
  {
   "cell_type": "code",
   "execution_count": 57,
   "metadata": {},
   "outputs": [
    {
     "data": {
      "text/plain": [
       "StandardScaler(copy=True, with_mean=True, with_std=True)"
      ]
     },
     "execution_count": 57,
     "metadata": {},
     "output_type": "execute_result"
    }
   ],
   "source": [
    "scaler_com.fit(x_train_com)"
   ]
  },
  {
   "cell_type": "code",
   "execution_count": 58,
   "metadata": {},
   "outputs": [],
   "source": [
    "x_train_com = scaler_com.transform(x_train_com)\n",
    "x_test_com = scaler_com.transform(x_test_com)"
   ]
  },
  {
   "cell_type": "code",
   "execution_count": 59,
   "metadata": {},
   "outputs": [
    {
     "name": "stdout",
     "output_type": "stream",
     "text": [
      "Iteration 1, loss = 0.02179662\n",
      "Iteration 2, loss = 0.00632408\n",
      "Iteration 3, loss = 0.00399026\n",
      "Iteration 4, loss = 0.00314497\n",
      "Iteration 5, loss = 0.00288352\n",
      "Iteration 6, loss = 0.00270921\n",
      "Iteration 7, loss = 0.00255725\n",
      "Iteration 8, loss = 0.00244165\n",
      "Iteration 9, loss = 0.00235096\n",
      "Iteration 10, loss = 0.00227732\n",
      "Iteration 11, loss = 0.00222570\n",
      "Iteration 12, loss = 0.00217505\n",
      "Iteration 13, loss = 0.00212660\n",
      "Iteration 14, loss = 0.00208822\n",
      "Iteration 15, loss = 0.00204020\n",
      "Iteration 16, loss = 0.00200560\n",
      "Iteration 17, loss = 0.00196992\n",
      "Iteration 18, loss = 0.00193984\n",
      "Iteration 19, loss = 0.00190708\n",
      "Iteration 20, loss = 0.00187340\n",
      "Iteration 21, loss = 0.00184927\n",
      "Iteration 22, loss = 0.00181386\n",
      "Iteration 23, loss = 0.00178461\n",
      "Iteration 24, loss = 0.00174930\n",
      "Iteration 25, loss = 0.00171956\n",
      "Iteration 26, loss = 0.00168579\n",
      "Iteration 27, loss = 0.00165597\n",
      "Iteration 28, loss = 0.00163959\n",
      "Iteration 29, loss = 0.00160957\n",
      "Iteration 30, loss = 0.00158027\n",
      "Iteration 31, loss = 0.00155612\n",
      "Iteration 32, loss = 0.00153447\n",
      "Iteration 33, loss = 0.00151625\n",
      "Iteration 34, loss = 0.00150094\n",
      "Iteration 35, loss = 0.00148285\n",
      "Iteration 36, loss = 0.00146445\n",
      "Iteration 37, loss = 0.00146284\n",
      "Iteration 38, loss = 0.00144207\n",
      "Iteration 39, loss = 0.00141935\n",
      "Iteration 40, loss = 0.00139977\n",
      "Iteration 41, loss = 0.00138584\n",
      "Iteration 42, loss = 0.00137325\n",
      "Iteration 43, loss = 0.00136494\n",
      "Iteration 44, loss = 0.00135452\n",
      "Iteration 45, loss = 0.00133864\n",
      "Iteration 46, loss = 0.00132527\n",
      "Iteration 47, loss = 0.00131971\n",
      "Iteration 48, loss = 0.00131245\n",
      "Iteration 49, loss = 0.00129167\n",
      "Iteration 50, loss = 0.00129121\n",
      "Iteration 51, loss = 0.00127745\n",
      "Iteration 52, loss = 0.00126990\n",
      "Iteration 53, loss = 0.00126931\n",
      "Iteration 54, loss = 0.00124777\n",
      "Iteration 55, loss = 0.00123986\n",
      "Iteration 56, loss = 0.00122727\n",
      "Iteration 57, loss = 0.00121950\n",
      "Iteration 58, loss = 0.00121235\n",
      "Iteration 59, loss = 0.00120321\n",
      "Iteration 60, loss = 0.00119654\n",
      "Iteration 61, loss = 0.00118635\n",
      "Iteration 62, loss = 0.00118037\n",
      "Iteration 63, loss = 0.00117606\n",
      "Iteration 64, loss = 0.00116556\n",
      "Iteration 65, loss = 0.00115824\n",
      "Iteration 66, loss = 0.00114667\n",
      "Iteration 67, loss = 0.00114159\n",
      "Iteration 68, loss = 0.00113987\n",
      "Iteration 69, loss = 0.00112702\n",
      "Iteration 70, loss = 0.00112778\n",
      "Iteration 71, loss = 0.00112443\n",
      "Iteration 72, loss = 0.00111331\n",
      "Iteration 73, loss = 0.00111902\n",
      "Iteration 74, loss = 0.00110638\n",
      "Iteration 75, loss = 0.00110521\n",
      "Iteration 76, loss = 0.00110024\n",
      "Iteration 77, loss = 0.00109252\n",
      "Iteration 78, loss = 0.00108885\n",
      "Iteration 79, loss = 0.00108473\n",
      "Iteration 80, loss = 0.00107927\n",
      "Iteration 81, loss = 0.00108043\n",
      "Iteration 82, loss = 0.00107608\n",
      "Iteration 83, loss = 0.00108324\n",
      "Iteration 84, loss = 0.00107206\n",
      "Iteration 85, loss = 0.00107740\n",
      "Iteration 86, loss = 0.00107578\n",
      "Iteration 87, loss = 0.00106727\n",
      "Iteration 88, loss = 0.00106230\n",
      "Iteration 89, loss = 0.00106453\n",
      "Iteration 90, loss = 0.00106016\n",
      "Iteration 91, loss = 0.00104859\n",
      "Iteration 92, loss = 0.00104686\n",
      "Iteration 93, loss = 0.00104242\n",
      "Iteration 94, loss = 0.00104213\n",
      "Iteration 95, loss = 0.00104120\n",
      "Iteration 96, loss = 0.00103529\n",
      "Iteration 97, loss = 0.00103242\n",
      "Iteration 98, loss = 0.00103597\n",
      "Iteration 99, loss = 0.00104136\n",
      "Iteration 100, loss = 0.00102575\n",
      "Iteration 101, loss = 0.00103072\n",
      "Iteration 102, loss = 0.00102829\n",
      "Iteration 103, loss = 0.00101747\n",
      "Iteration 104, loss = 0.00102763\n",
      "Iteration 105, loss = 0.00102661\n",
      "Iteration 106, loss = 0.00102083\n",
      "Training loss did not improve more than tol=0.000001 for two consecutive epochs. Stopping.\n"
     ]
    }
   ],
   "source": [
    "n_fit_com=nn.fit(x_train_com,y_train_com)"
   ]
  },
  {
   "cell_type": "code",
   "execution_count": 60,
   "metadata": {},
   "outputs": [],
   "source": [
    "nn.score(x_train_com,y_train_com)\n",
    "com_training_score = nn.score(x_train_com,y_train_com)"
   ]
  },
  {
   "cell_type": "code",
   "execution_count": 61,
   "metadata": {},
   "outputs": [],
   "source": [
    "nn.score(x_test_com,y_test_com)\n",
    "com_testing_score = nn.score(x_test_com,y_test_com)"
   ]
  },
  {
   "cell_type": "code",
   "execution_count": 62,
   "metadata": {},
   "outputs": [
    {
     "data": {
      "image/png": "[encoded data removed]",
      "text/plain": [
       "<Figure size 432x288 with 1 Axes>"
      ]
     },
     "metadata": {
      "needs_background": "light"
     },
     "output_type": "display_data"
    }
   ],
   "source": [
    "import matplotlib.pyplot as plt\n",
    "fig = plt.figure()\n",
    "epochs_com = range(0,len(nn.loss_curve_))\n",
    "loss_com = nn.loss_curve_\n",
    "plt.plot(epochs,loss_thermisto,label='C2075',linestyle='-',c='k')\n",
    "plt.plot(epochs_cas,loss_cas,label='V100',linestyle='--',c='b')\n",
    "plt.plot(epochs_new,loss_new,label='P100',linestyle='-.',c='g')\n",
    "plt.plot(epochs_com,loss_com,label='Combined',linestyle=':',c='y')\n",
    "plt.yscale('log')\n",
    "plt.xlabel('Epochs')\n",
    "plt.ylabel('Loss')\n",
    "plt.legend(loc='upper right')\n",
    "plt.show()\n",
    "fig.savefig('loss_history_combined.png')"
   ]
  },
  {
   "cell_type": "code",
   "execution_count": 63,
   "metadata": {},
   "outputs": [],
   "source": [
    "y_predicted_train_com=nn.predict(x_train_com)\n",
    "y_predicted_train_com=np.array(y_predicted_train_com)\n",
    "y_real_train_com=np.array(y_train_com)\n",
    "y_predicted_train_com.reshape([len(y_predicted_train_com),1])\n",
    "y_real_train_com.reshape([len(y_real_train_com),1])\n",
    "np.savetxt('Predicted_train_combined.txt',y_predicted_train_com)\n",
    "np.savetxt('Actual_train_combined.txt',y_real_train_com)\n",
    "y_real_test_com=np.array(y_test_com)\n",
    "y_predicted_test_com = np.array(nn.predict(x_test_com))\n",
    "np.savetxt('Actual_test_combined.txt',y_real_test_com.reshape([len(y_real_test_com),1]))\n",
    "np.savetxt('Predicted_test_combined.txt',y_predicted_test_com.reshape([len(y_predicted_test_com),1]))"
   ]
  },
  {
   "cell_type": "code",
   "execution_count": 64,
   "metadata": {},
   "outputs": [
    {
     "data": {
      "image/png": "[encoded data removed]",
      "text/plain": [
       "<Figure size 432x288 with 1 Axes>"
      ]
     },
     "metadata": {
      "needs_background": "light"
     },
     "output_type": "display_data"
    }
   ],
   "source": [
    "fig = plt.figure()\n",
    "xyrange = [0.8,2.0]\n",
    "plt.scatter(y_real_train,y_predicted_train,s=2,c='k',label='C2075')\n",
    "plt.scatter(y_real_train_cas,y_predicted_train_cas,s=2,c='b',label='V100')\n",
    "plt.scatter(y_real_train_new,y_predicted_train_new,s=2,c='g',label='P100')\n",
    "plt.scatter(y_real_train_com,y_predicted_train_com,s=2,c='y',label='Combined')\n",
    "plt.plot(xyrange,xyrange,'r')\n",
    "plt.xlabel('Actual runtime, s')\n",
    "plt.ylabel('Predicted runtime, s')\n",
    "plt.legend(loc='lower right')\n",
    "plt.axis('square')\n",
    "plt.axis([xyrange[0],xyrange[1],xyrange[0],xyrange[1]])\n",
    "plt.show()\n",
    "fig.savefig('Combined_training.png')"
   ]
  },
  {
   "cell_type": "code",
   "execution_count": 65,
   "metadata": {},
   "outputs": [
    {
     "data": {
      "image/png": "[encoded data removed]",
      "text/plain": [
       "<Figure size 432x288 with 1 Axes>"
      ]
     },
     "metadata": {
      "needs_background": "light"
     },
     "output_type": "display_data"
    }
   ],
   "source": [
    "fig = plt.figure()\n",
    "xyrange = [0.8,2.0]\n",
    "plt.scatter(y_real_test,y_predicted_test,s=2,c='k',label='C2075')\n",
    "plt.scatter(y_real_test_cas,y_predicted_test_cas,s=2,c='b',label='V100')\n",
    "plt.scatter(y_real_test_new,y_predicted_test_new,s=2,c='g',label='P100')\n",
    "plt.scatter(y_real_test_com,y_predicted_test_com,s=2,c='y',label='Combined')\n",
    "plt.plot(xyrange,xyrange,'r')\n",
    "plt.xlabel('Actual runtime, s')\n",
    "plt.ylabel('Predicted runtime, s')\n",
    "plt.legend(loc='lower right')\n",
    "plt.axis('square')\n",
    "plt.axis([xyrange[0],xyrange[1],xyrange[0],xyrange[1]])\n",
    "plt.show()\n",
    "fig.savefig('Combined_testing.png')"
   ]
  },
  {
   "cell_type": "code",
   "execution_count": 66,
   "metadata": {},
   "outputs": [
    {
     "name": "stdout",
     "output_type": "stream",
     "text": [
      "0.6698192116318773\n"
     ]
    }
   ],
   "source": [
    "print(com_testing_score)"
   ]
  },
  {
   "cell_type": "code",
   "execution_count": 67,
   "metadata": {},
   "outputs": [
    {
     "data": {
      "image/png": "[encoded data removed]",
      "text/plain": [
       "<Figure size 432x288 with 1 Axes>"
      ]
     },
     "metadata": {
      "needs_background": "light"
     },
     "output_type": "display_data"
    }
   ],
   "source": [
    "labels = ['Training', 'Testing']\n",
    "C2075_score = [the_training_score, the_testing_score]\n",
    "V100_score = [cas_training_score, cas_testing_score]\n",
    "P100_score = [new_training_score, new_testing_score]\n",
    "combined_score = [com_training_score, com_testing_score]\n",
    "\n",
    "x = np.arange(len(labels))  # the label locations\n",
    "width = 0.2  # the width of the bars\n",
    "\n",
    "fig, ax = plt.subplots()\n",
    "rects1 = ax.bar(x - 3*width/2, C2075_score, width, label='C2075', color='k')\n",
    "rects2 = ax.bar(x - width/2, V100_score, width, label='V100', color='b')\n",
    "rects3 = ax.bar(x + width/2, P100_score, width, label='P100', color='g')\n",
    "rects4 = ax.bar(x + 3*width/2, combined_score, width, label='Combined', color='y')\n",
    "\n",
    "# Add some text for labels, title and custom x-axis tick labels, etc.\n",
    "ax.set_ylabel('Score')\n",
    "ax.set_xticks(x)\n",
    "ax.set_xticklabels(labels)\n",
    "ax.legend(bbox_to_anchor=(1.05, 1),loc='upper left')\n",
    "\n",
    "fig.tight_layout()\n",
    "\n",
    "plt.show()\n",
    "fig.savefig('Score.png')"
   ]
  },
  {
   "cell_type": "code",
   "execution_count": null,
   "metadata": {},
   "outputs": [],
   "source": []
  }
 ],
 "metadata": {
  "kernelspec": {
   "display_name": "Python 3",
   "language": "python",
   "name": "python3"
  },
  "language_info": {
   "codemirror_mode": {
    "name": "ipython",
    "version": 3
   },
   "file_extension": ".py",
   "mimetype": "text/x-python",
   "name": "python",
   "nbconvert_exporter": "python",
   "pygments_lexer": "ipython3",
   "version": "3.6.8"
  }
 },
 "nbformat": 4,
 "nbformat_minor": 2
}
